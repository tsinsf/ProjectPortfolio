{
 "cells": [
  {
   "cell_type": "markdown",
   "id": "5b774786",
   "metadata": {},
   "source": [
    "<br> MBAN:      Tom Schmidt\n",
    "<br> Course:    Introduction to Machine Learning & AI - DAT-5329\n",
    "<br> Professor: Chase Kusterer\n",
    "<br> \n",
    "<br> A1: Unsupervised Analysis Project (Individual\n",
    "<br> April 14th, 2024"
   ]
  },
  {
   "cell_type": "markdown",
   "id": "7c888f7f",
   "metadata": {},
   "source": [
    "In the topic of digital marketing, effective engagement on social media platforms like Facebook is crucial. This analysis focused on understanding how different types of content (photos, videos, texts) resonate with users in Thailand. Leveraging data-driven techniques such as Principal Component Analysis (PCA) and k-means clustering, I transformed user interactions into key metrics that define engagement levels and emotional responses.\n",
    "\n",
    "This analysis revealed that photos are the most engaging content type, leading in 'Likes' reactions, indicating a strong visual appeal. Whereas videos are mainly dominant in receiving 'Love' and 'Wow' reactions, suggesting their impact in capturing user interest. Text posts, although only having a few strong emotional reactions, serve their niche effectively.\n",
    "\n",
    "Further, through classification modeling, we identified the typical characteristics of content within each cluster, providing insights into what drives user engagement and the emotional undercurrents of reactions. Crucially, we assessed the accuracy of predictive models to minimize false positives and negatives misclassifications that could lead to ineffective targeting and missed opportunities.\n",
    "\n",
    "For businesses, these insights are critical. They highlight the significance of aligning content to audience preferences, investing in high-quality visuals and understanding the balance between reaching out and overstepping, thereby optimizing resource allocation and maximizing market potential. This analysis provides a strategic roadmap for engaging with the digital landscape in Thailand, with potential to being applied to broader markets."
   ]
  },
  {
   "cell_type": "markdown",
   "id": "2f37c9d5",
   "metadata": {},
   "source": [
    "<h1> Introduction </h1>"
   ]
  },
  {
   "cell_type": "code",
   "execution_count": 413,
   "id": "e48c4abc",
   "metadata": {},
   "outputs": [
    {
     "data": {
      "text/html": [
       "<div>\n",
       "<style scoped>\n",
       "    .dataframe tbody tr th:only-of-type {\n",
       "        vertical-align: middle;\n",
       "    }\n",
       "\n",
       "    .dataframe tbody tr th {\n",
       "        vertical-align: top;\n",
       "    }\n",
       "\n",
       "    .dataframe thead th {\n",
       "        text-align: right;\n",
       "    }\n",
       "</style>\n",
       "<table border=\"1\" class=\"dataframe\">\n",
       "  <thead>\n",
       "    <tr style=\"text-align: right;\">\n",
       "      <th></th>\n",
       "      <th>status_id</th>\n",
       "      <th>status_type</th>\n",
       "      <th>time_published</th>\n",
       "      <th>num_comments</th>\n",
       "      <th>num_shares</th>\n",
       "      <th>num_likes</th>\n",
       "      <th>num_loves</th>\n",
       "      <th>num_wows</th>\n",
       "      <th>num_hahas</th>\n",
       "      <th>num_sads</th>\n",
       "      <th>num_angrys</th>\n",
       "    </tr>\n",
       "  </thead>\n",
       "  <tbody>\n",
       "    <tr>\n",
       "      <th>0</th>\n",
       "      <td>1</td>\n",
       "      <td>photo</td>\n",
       "      <td>2023-07-04 22:45:00</td>\n",
       "      <td>0</td>\n",
       "      <td>0</td>\n",
       "      <td>150</td>\n",
       "      <td>0</td>\n",
       "      <td>0</td>\n",
       "      <td>0</td>\n",
       "      <td>0</td>\n",
       "      <td>0</td>\n",
       "    </tr>\n",
       "    <tr>\n",
       "      <th>1</th>\n",
       "      <td>2</td>\n",
       "      <td>photo</td>\n",
       "      <td>2023-06-23 01:01:00</td>\n",
       "      <td>2</td>\n",
       "      <td>3</td>\n",
       "      <td>202</td>\n",
       "      <td>7</td>\n",
       "      <td>1</td>\n",
       "      <td>0</td>\n",
       "      <td>0</td>\n",
       "      <td>0</td>\n",
       "    </tr>\n",
       "    <tr>\n",
       "      <th>2</th>\n",
       "      <td>3</td>\n",
       "      <td>photo</td>\n",
       "      <td>2023-06-21 02:23:00</td>\n",
       "      <td>4</td>\n",
       "      <td>0</td>\n",
       "      <td>200</td>\n",
       "      <td>8</td>\n",
       "      <td>1</td>\n",
       "      <td>0</td>\n",
       "      <td>0</td>\n",
       "      <td>0</td>\n",
       "    </tr>\n",
       "    <tr>\n",
       "      <th>3</th>\n",
       "      <td>4</td>\n",
       "      <td>video</td>\n",
       "      <td>2023-06-14 05:16:00</td>\n",
       "      <td>100</td>\n",
       "      <td>30</td>\n",
       "      <td>303</td>\n",
       "      <td>23</td>\n",
       "      <td>1</td>\n",
       "      <td>5</td>\n",
       "      <td>0</td>\n",
       "      <td>0</td>\n",
       "    </tr>\n",
       "    <tr>\n",
       "      <th>4</th>\n",
       "      <td>5</td>\n",
       "      <td>video</td>\n",
       "      <td>2023-06-08 08:28:00</td>\n",
       "      <td>173</td>\n",
       "      <td>47</td>\n",
       "      <td>132</td>\n",
       "      <td>16</td>\n",
       "      <td>1</td>\n",
       "      <td>0</td>\n",
       "      <td>1</td>\n",
       "      <td>0</td>\n",
       "    </tr>\n",
       "    <tr>\n",
       "      <th>5</th>\n",
       "      <td>6</td>\n",
       "      <td>photo</td>\n",
       "      <td>2023-06-03 08:40:00</td>\n",
       "      <td>15</td>\n",
       "      <td>1</td>\n",
       "      <td>221</td>\n",
       "      <td>12</td>\n",
       "      <td>1</td>\n",
       "      <td>0</td>\n",
       "      <td>0</td>\n",
       "      <td>0</td>\n",
       "    </tr>\n",
       "    <tr>\n",
       "      <th>6</th>\n",
       "      <td>7</td>\n",
       "      <td>video</td>\n",
       "      <td>2023-06-01 22:34:00</td>\n",
       "      <td>0</td>\n",
       "      <td>1</td>\n",
       "      <td>37</td>\n",
       "      <td>0</td>\n",
       "      <td>0</td>\n",
       "      <td>0</td>\n",
       "      <td>0</td>\n",
       "      <td>0</td>\n",
       "    </tr>\n",
       "    <tr>\n",
       "      <th>7</th>\n",
       "      <td>8</td>\n",
       "      <td>photo</td>\n",
       "      <td>2023-05-22 05:55:00</td>\n",
       "      <td>0</td>\n",
       "      <td>0</td>\n",
       "      <td>81</td>\n",
       "      <td>2</td>\n",
       "      <td>2</td>\n",
       "      <td>0</td>\n",
       "      <td>0</td>\n",
       "      <td>0</td>\n",
       "    </tr>\n",
       "    <tr>\n",
       "      <th>8</th>\n",
       "      <td>9</td>\n",
       "      <td>photo</td>\n",
       "      <td>2023-05-18 02:48:00</td>\n",
       "      <td>8</td>\n",
       "      <td>0</td>\n",
       "      <td>281</td>\n",
       "      <td>11</td>\n",
       "      <td>1</td>\n",
       "      <td>0</td>\n",
       "      <td>0</td>\n",
       "      <td>0</td>\n",
       "    </tr>\n",
       "    <tr>\n",
       "      <th>9</th>\n",
       "      <td>10</td>\n",
       "      <td>photo</td>\n",
       "      <td>2023-05-13 01:43:00</td>\n",
       "      <td>11</td>\n",
       "      <td>6</td>\n",
       "      <td>61</td>\n",
       "      <td>4</td>\n",
       "      <td>1</td>\n",
       "      <td>0</td>\n",
       "      <td>0</td>\n",
       "      <td>0</td>\n",
       "    </tr>\n",
       "    <tr>\n",
       "      <th>10</th>\n",
       "      <td>11</td>\n",
       "      <td>video</td>\n",
       "      <td>2023-04-29 08:23:00</td>\n",
       "      <td>60</td>\n",
       "      <td>11</td>\n",
       "      <td>114</td>\n",
       "      <td>13</td>\n",
       "      <td>0</td>\n",
       "      <td>0</td>\n",
       "      <td>0</td>\n",
       "      <td>1</td>\n",
       "    </tr>\n",
       "    <tr>\n",
       "      <th>11</th>\n",
       "      <td>12</td>\n",
       "      <td>video</td>\n",
       "      <td>2023-04-25 07:54:00</td>\n",
       "      <td>72</td>\n",
       "      <td>28</td>\n",
       "      <td>103</td>\n",
       "      <td>16</td>\n",
       "      <td>0</td>\n",
       "      <td>0</td>\n",
       "      <td>0</td>\n",
       "      <td>0</td>\n",
       "    </tr>\n",
       "    <tr>\n",
       "      <th>12</th>\n",
       "      <td>13</td>\n",
       "      <td>photo</td>\n",
       "      <td>2023-04-17 07:08:00</td>\n",
       "      <td>8</td>\n",
       "      <td>0</td>\n",
       "      <td>245</td>\n",
       "      <td>14</td>\n",
       "      <td>4</td>\n",
       "      <td>0</td>\n",
       "      <td>0</td>\n",
       "      <td>0</td>\n",
       "    </tr>\n",
       "    <tr>\n",
       "      <th>13</th>\n",
       "      <td>14</td>\n",
       "      <td>photo</td>\n",
       "      <td>2023-04-12 07:50:00</td>\n",
       "      <td>32</td>\n",
       "      <td>1</td>\n",
       "      <td>484</td>\n",
       "      <td>26</td>\n",
       "      <td>7</td>\n",
       "      <td>0</td>\n",
       "      <td>0</td>\n",
       "      <td>0</td>\n",
       "    </tr>\n",
       "    <tr>\n",
       "      <th>14</th>\n",
       "      <td>15</td>\n",
       "      <td>photo</td>\n",
       "      <td>2023-04-10 13:02:00</td>\n",
       "      <td>6</td>\n",
       "      <td>0</td>\n",
       "      <td>104</td>\n",
       "      <td>8</td>\n",
       "      <td>0</td>\n",
       "      <td>0</td>\n",
       "      <td>0</td>\n",
       "      <td>0</td>\n",
       "    </tr>\n",
       "  </tbody>\n",
       "</table>\n",
       "</div>"
      ],
      "text/plain": [
       "    status_id status_type      time_published  num_comments  num_shares  num_likes  num_loves  num_wows  num_hahas  num_sads  num_angrys\n",
       "0           1       photo 2023-07-04 22:45:00             0           0        150          0         0          0         0           0\n",
       "1           2       photo 2023-06-23 01:01:00             2           3        202          7         1          0         0           0\n",
       "2           3       photo 2023-06-21 02:23:00             4           0        200          8         1          0         0           0\n",
       "3           4       video 2023-06-14 05:16:00           100          30        303         23         1          5         0           0\n",
       "4           5       video 2023-06-08 08:28:00           173          47        132         16         1          0         1           0\n",
       "5           6       photo 2023-06-03 08:40:00            15           1        221         12         1          0         0           0\n",
       "6           7       video 2023-06-01 22:34:00             0           1         37          0         0          0         0           0\n",
       "7           8       photo 2023-05-22 05:55:00             0           0         81          2         2          0         0           0\n",
       "8           9       photo 2023-05-18 02:48:00             8           0        281         11         1          0         0           0\n",
       "9          10       photo 2023-05-13 01:43:00            11           6         61          4         1          0         0           0\n",
       "10         11       video 2023-04-29 08:23:00            60          11        114         13         0          0         0           1\n",
       "11         12       video 2023-04-25 07:54:00            72          28        103         16         0          0         0           0\n",
       "12         13       photo 2023-04-17 07:08:00             8           0        245         14         4          0         0           0\n",
       "13         14       photo 2023-04-12 07:50:00            32           1        484         26         7          0         0           0\n",
       "14         15       photo 2023-04-10 13:02:00             6           0        104          8         0          0         0           0"
      ]
     },
     "execution_count": 413,
     "metadata": {},
     "output_type": "execute_result"
    }
   ],
   "source": [
    "# importing libraries\n",
    "import numpy             as np  # mathematical essentials\n",
    "import pandas            as pd  # data science essentials\n",
    "import matplotlib.pyplot as plt # data viz\n",
    "import seaborn           as sns # enhanced data viz\n",
    "import phik                     # phi matrix and coefficient\n",
    "from sklearn.preprocessing import StandardScaler # standard scaler\n",
    "from sklearn.decomposition import PCA            # pca\n",
    "from scipy.cluster.hierarchy import linkage      # linkage\n",
    "from scipy.cluster.hierarchy import dendrogram   # dendrogram\n",
    "from sklearn.cluster import KMeans               # KMeans\n",
    "\n",
    "\n",
    "# loading data\n",
    "file = '/Users/ts/Desktop/M. Sc. Business Analytics/02_Modules/16_Introduction to Machine Learning & AI/01_Assignments/A1 - Unsupervised  Analysis Project. (Individual)/facebook_live_data.xlsx'\n",
    "# calling this df_train\n",
    "fb = pd.read_excel(io = file)\n",
    "\n",
    "\n",
    "# setting pandas print options\n",
    "pd.set_option('display.max_rows', 500)\n",
    "pd.set_option('display.max_columns', 500)\n",
    "pd.set_option('display.width', 1000)\n",
    "pd.set_option('display.max_colwidth', 100)\n",
    "\n",
    "\n",
    "# checking dataset\n",
    "fb.head(n = 15)"
   ]
  },
  {
   "cell_type": "markdown",
   "id": "347f0f8c",
   "metadata": {},
   "source": [
    "<h2> Data Preparation </h2>"
   ]
  },
  {
   "cell_type": "code",
   "execution_count": 414,
   "id": "f4347aae",
   "metadata": {},
   "outputs": [
    {
     "data": {
      "text/html": [
       "<div>\n",
       "<style scoped>\n",
       "    .dataframe tbody tr th:only-of-type {\n",
       "        vertical-align: middle;\n",
       "    }\n",
       "\n",
       "    .dataframe tbody tr th {\n",
       "        vertical-align: top;\n",
       "    }\n",
       "\n",
       "    .dataframe thead th {\n",
       "        text-align: right;\n",
       "    }\n",
       "</style>\n",
       "<table border=\"1\" class=\"dataframe\">\n",
       "  <thead>\n",
       "    <tr style=\"text-align: right;\">\n",
       "      <th></th>\n",
       "      <th>status_id</th>\n",
       "      <th>time_published</th>\n",
       "      <th>num_comments</th>\n",
       "      <th>num_shares</th>\n",
       "      <th>num_likes</th>\n",
       "      <th>num_loves</th>\n",
       "      <th>num_wows</th>\n",
       "      <th>num_hahas</th>\n",
       "      <th>num_sads</th>\n",
       "      <th>num_angrys</th>\n",
       "    </tr>\n",
       "  </thead>\n",
       "  <tbody>\n",
       "    <tr>\n",
       "      <th>count</th>\n",
       "      <td>2362.00000</td>\n",
       "      <td>2362</td>\n",
       "      <td>2362.000000</td>\n",
       "      <td>2362.000000</td>\n",
       "      <td>2362.000000</td>\n",
       "      <td>2362.000000</td>\n",
       "      <td>2362.000000</td>\n",
       "      <td>2362.000000</td>\n",
       "      <td>2362.000000</td>\n",
       "      <td>2362.000000</td>\n",
       "    </tr>\n",
       "    <tr>\n",
       "      <th>mean</th>\n",
       "      <td>1181.50000</td>\n",
       "      <td>2022-01-17 21:45:45.673158144</td>\n",
       "      <td>233.729890</td>\n",
       "      <td>39.822185</td>\n",
       "      <td>221.147756</td>\n",
       "      <td>12.827265</td>\n",
       "      <td>1.282388</td>\n",
       "      <td>0.740051</td>\n",
       "      <td>0.260373</td>\n",
       "      <td>0.122777</td>\n",
       "    </tr>\n",
       "    <tr>\n",
       "      <th>min</th>\n",
       "      <td>1.00000</td>\n",
       "      <td>2017-09-27 02:58:00</td>\n",
       "      <td>0.000000</td>\n",
       "      <td>0.000000</td>\n",
       "      <td>0.000000</td>\n",
       "      <td>0.000000</td>\n",
       "      <td>0.000000</td>\n",
       "      <td>0.000000</td>\n",
       "      <td>0.000000</td>\n",
       "      <td>0.000000</td>\n",
       "    </tr>\n",
       "    <tr>\n",
       "      <th>25%</th>\n",
       "      <td>591.25000</td>\n",
       "      <td>2021-03-25 16:10:15</td>\n",
       "      <td>0.000000</td>\n",
       "      <td>0.000000</td>\n",
       "      <td>17.000000</td>\n",
       "      <td>0.000000</td>\n",
       "      <td>0.000000</td>\n",
       "      <td>0.000000</td>\n",
       "      <td>0.000000</td>\n",
       "      <td>0.000000</td>\n",
       "    </tr>\n",
       "    <tr>\n",
       "      <th>50%</th>\n",
       "      <td>1181.50000</td>\n",
       "      <td>2023-01-28 04:36:30</td>\n",
       "      <td>4.000000</td>\n",
       "      <td>0.000000</td>\n",
       "      <td>57.000000</td>\n",
       "      <td>0.000000</td>\n",
       "      <td>0.000000</td>\n",
       "      <td>0.000000</td>\n",
       "      <td>0.000000</td>\n",
       "      <td>0.000000</td>\n",
       "    </tr>\n",
       "    <tr>\n",
       "      <th>75%</th>\n",
       "      <td>1771.75000</td>\n",
       "      <td>2023-05-17 11:30:30</td>\n",
       "      <td>23.000000</td>\n",
       "      <td>3.000000</td>\n",
       "      <td>186.000000</td>\n",
       "      <td>3.000000</td>\n",
       "      <td>0.000000</td>\n",
       "      <td>0.000000</td>\n",
       "      <td>0.000000</td>\n",
       "      <td>0.000000</td>\n",
       "    </tr>\n",
       "    <tr>\n",
       "      <th>max</th>\n",
       "      <td>2362.00000</td>\n",
       "      <td>2023-08-25 21:08:00</td>\n",
       "      <td>10960.000000</td>\n",
       "      <td>1260.000000</td>\n",
       "      <td>4315.000000</td>\n",
       "      <td>421.000000</td>\n",
       "      <td>278.000000</td>\n",
       "      <td>102.000000</td>\n",
       "      <td>46.000000</td>\n",
       "      <td>31.000000</td>\n",
       "    </tr>\n",
       "    <tr>\n",
       "      <th>std</th>\n",
       "      <td>681.99499</td>\n",
       "      <td>NaN</td>\n",
       "      <td>856.359157</td>\n",
       "      <td>123.780440</td>\n",
       "      <td>467.312818</td>\n",
       "      <td>40.997534</td>\n",
       "      <td>8.718397</td>\n",
       "      <td>4.111450</td>\n",
       "      <td>1.842239</td>\n",
       "      <td>0.904222</td>\n",
       "    </tr>\n",
       "  </tbody>\n",
       "</table>\n",
       "</div>"
      ],
      "text/plain": [
       "        status_id                 time_published  num_comments   num_shares    num_likes    num_loves     num_wows    num_hahas     num_sads   num_angrys\n",
       "count  2362.00000                           2362   2362.000000  2362.000000  2362.000000  2362.000000  2362.000000  2362.000000  2362.000000  2362.000000\n",
       "mean   1181.50000  2022-01-17 21:45:45.673158144    233.729890    39.822185   221.147756    12.827265     1.282388     0.740051     0.260373     0.122777\n",
       "min       1.00000            2017-09-27 02:58:00      0.000000     0.000000     0.000000     0.000000     0.000000     0.000000     0.000000     0.000000\n",
       "25%     591.25000            2021-03-25 16:10:15      0.000000     0.000000    17.000000     0.000000     0.000000     0.000000     0.000000     0.000000\n",
       "50%    1181.50000            2023-01-28 04:36:30      4.000000     0.000000    57.000000     0.000000     0.000000     0.000000     0.000000     0.000000\n",
       "75%    1771.75000            2023-05-17 11:30:30     23.000000     3.000000   186.000000     3.000000     0.000000     0.000000     0.000000     0.000000\n",
       "max    2362.00000            2023-08-25 21:08:00  10960.000000  1260.000000  4315.000000   421.000000   278.000000   102.000000    46.000000    31.000000\n",
       "std     681.99499                            NaN    856.359157   123.780440   467.312818    40.997534     8.718397     4.111450     1.842239     0.904222"
      ]
     },
     "execution_count": 414,
     "metadata": {},
     "output_type": "execute_result"
    }
   ],
   "source": [
    "fb.describe()"
   ]
  },
  {
   "cell_type": "code",
   "execution_count": 415,
   "id": "aca56e7a",
   "metadata": {},
   "outputs": [
    {
     "name": "stdout",
     "output_type": "stream",
     "text": [
      "<class 'pandas.core.frame.DataFrame'>\n",
      "RangeIndex: 2362 entries, 0 to 2361\n",
      "Data columns (total 11 columns):\n",
      " #   Column          Non-Null Count  Dtype         \n",
      "---  ------          --------------  -----         \n",
      " 0   status_id       2362 non-null   int64         \n",
      " 1   status_type     2362 non-null   object        \n",
      " 2   time_published  2362 non-null   datetime64[ns]\n",
      " 3   num_comments    2362 non-null   int64         \n",
      " 4   num_shares      2362 non-null   int64         \n",
      " 5   num_likes       2362 non-null   int64         \n",
      " 6   num_loves       2362 non-null   int64         \n",
      " 7   num_wows        2362 non-null   int64         \n",
      " 8   num_hahas       2362 non-null   int64         \n",
      " 9   num_sads        2362 non-null   int64         \n",
      " 10  num_angrys      2362 non-null   int64         \n",
      "dtypes: datetime64[ns](1), int64(9), object(1)\n",
      "memory usage: 203.1+ KB\n"
     ]
    }
   ],
   "source": [
    "fb.info()"
   ]
  },
  {
   "cell_type": "code",
   "execution_count": 416,
   "id": "f68124e0",
   "metadata": {},
   "outputs": [
    {
     "data": {
      "text/plain": [
       "status_id         0\n",
       "status_type       0\n",
       "time_published    0\n",
       "num_comments      0\n",
       "num_shares        0\n",
       "num_likes         0\n",
       "num_loves         0\n",
       "num_wows          0\n",
       "num_hahas         0\n",
       "num_sads          0\n",
       "num_angrys        0\n",
       "dtype: int64"
      ]
     },
     "execution_count": 416,
     "metadata": {},
     "output_type": "execute_result"
    }
   ],
   "source": [
    "fb.isnull().sum(axis=0)"
   ]
  },
  {
   "cell_type": "markdown",
   "id": "5612434b",
   "metadata": {},
   "source": [
    "<h1> Engagement Performances of Status Types </h1>"
   ]
  },
  {
   "cell_type": "code",
   "execution_count": 417,
   "id": "7066293f",
   "metadata": {},
   "outputs": [],
   "source": [
    "# create a new feature \"total_engagement\"\n",
    "\n",
    "fb['total_engagement'] = fb['num_comments'] + fb['num_shares'] + fb['num_likes'] + fb['num_loves'] + fb['num_wows'] + fb['num_hahas'] + fb['num_sads'] + fb['num_angrys']"
   ]
  },
  {
   "cell_type": "code",
   "execution_count": 418,
   "id": "eb7efc4c",
   "metadata": {},
   "outputs": [
    {
     "data": {
      "image/png": "[encoded data removed]",
      "text/plain": [
       "<Figure size 800x400 with 1 Axes>"
      ]
     },
     "metadata": {},
     "output_type": "display_data"
    }
   ],
   "source": [
    "# creating visualizations with new feature \"total_engagement\"\n",
    "\n",
    "# sample data\n",
    "status_type = fb['status_type']\n",
    "interactions = fb['total_engagement']\n",
    "\n",
    "# creating the bar chart\n",
    "plt.figure(figsize=(8, 4))  # set the size of the figure (optional)\n",
    "plt.bar(status_type, interactions, color='blue')  # create a bar chart with blue bars\n",
    "\n",
    "# adding title and labels\n",
    "plt.title('Total Engagement by Status Type')\n",
    "plt.xlabel('Status Type')\n",
    "plt.ylabel('Interactions')\n",
    "\n",
    "# display the chart\n",
    "plt.show()"
   ]
  },
  {
   "cell_type": "markdown",
   "id": "667f69dc",
   "metadata": {},
   "source": [
    "Checking engagement in specific reactions for all three status types (photo, video, text) and compare. Starting with number of comments and number of shares.  "
   ]
  },
  {
   "cell_type": "code",
   "execution_count": 419,
   "id": "e1b3fd4f",
   "metadata": {
    "cell_style": "split"
   },
   "outputs": [
    {
     "data": {
      "image/png": "[encoded data removed]",
      "text/plain": [
       "<Figure size 800x400 with 1 Axes>"
      ]
     },
     "metadata": {},
     "output_type": "display_data"
    }
   ],
   "source": [
    "# creating visualizations with comments\n",
    "\n",
    "# sample data\n",
    "status_type = fb['status_type']\n",
    "interactions = fb['num_comments']\n",
    "\n",
    "# creating the bar chart\n",
    "plt.figure(figsize=(8, 4))  \n",
    "plt.bar(status_type, interactions, color='blue')  \n",
    "\n",
    "# adding title and labels\n",
    "plt.title('Comments by Status Type')\n",
    "plt.xlabel('Status Type')\n",
    "plt.ylabel('Interactions')\n",
    "\n",
    "# display the chart\n",
    "plt.show()"
   ]
  },
  {
   "cell_type": "code",
   "execution_count": 420,
   "id": "62c65722",
   "metadata": {
    "cell_style": "split",
    "scrolled": true
   },
   "outputs": [
    {
     "data": {
      "image/png": "[encoded data removed]",
      "text/plain": [
       "<Figure size 800x400 with 1 Axes>"
      ]
     },
     "metadata": {},
     "output_type": "display_data"
    }
   ],
   "source": [
    "# creating visualizations with shares\n",
    "\n",
    "# sample data\n",
    "status_type = fb['status_type']\n",
    "interactions = fb['num_shares']\n",
    "\n",
    "# creating the bar chart\n",
    "plt.figure(figsize=(8, 4))  \n",
    "plt.bar(status_type, interactions, color='blue')  \n",
    "\n",
    "# adding title and labels\n",
    "plt.title('Shares by Status Type')\n",
    "plt.xlabel('Status Type')\n",
    "plt.ylabel('Interactions')\n",
    "\n",
    "# display the chart\n",
    "plt.show()"
   ]
  },
  {
   "cell_type": "markdown",
   "id": "609ceedc",
   "metadata": {},
   "source": [
    "Further examining the number of likes and number of loves for each status type. "
   ]
  },
  {
   "cell_type": "code",
   "execution_count": 421,
   "id": "d9b32fb1",
   "metadata": {
    "cell_style": "split"
   },
   "outputs": [
    {
     "data": {
      "image/png": "[encoded data removed]",
      "text/plain": [
       "<Figure size 800x400 with 1 Axes>"
      ]
     },
     "metadata": {},
     "output_type": "display_data"
    }
   ],
   "source": [
    "# creating visualizations with likes\n",
    "\n",
    "# sample data\n",
    "status_type = fb['status_type']\n",
    "interactions = fb['num_likes']\n",
    "\n",
    "# creating the bar chart\n",
    "plt.figure(figsize=(8, 4))\n",
    "plt.bar(status_type, interactions, color='blue')  \n",
    "\n",
    "# adding title and labels\n",
    "plt.title('Likes by Status Type')\n",
    "plt.xlabel('Status Type')\n",
    "plt.ylabel('Interactions')\n",
    "\n",
    "# display the chart\n",
    "plt.show()"
   ]
  },
  {
   "cell_type": "code",
   "execution_count": 422,
   "id": "516f34e2",
   "metadata": {
    "cell_style": "split"
   },
   "outputs": [
    {
     "data": {
      "image/png": "[encoded data removed]",
      "text/plain": [
       "<Figure size 800x400 with 1 Axes>"
      ]
     },
     "metadata": {},
     "output_type": "display_data"
    }
   ],
   "source": [
    "# creating visualizations with loves\n",
    "\n",
    "# sample data\n",
    "status_type = fb['status_type']\n",
    "interactions = fb['num_loves']\n",
    "\n",
    "# creating the bar chart\n",
    "plt.figure(figsize=(8, 4))  \n",
    "plt.bar(status_type, interactions, color='blue')  \n",
    "\n",
    "# adding title and labels\n",
    "plt.title('Loves by Status Type')\n",
    "plt.xlabel('Status Type')\n",
    "plt.ylabel('Interactions')\n",
    "\n",
    "# display the chart\n",
    "plt.show()"
   ]
  },
  {
   "cell_type": "markdown",
   "id": "d270043a",
   "metadata": {},
   "source": [
    "Now comparing the number of wows and number of hahas."
   ]
  },
  {
   "cell_type": "code",
   "execution_count": 423,
   "id": "244ddbab",
   "metadata": {
    "cell_style": "split"
   },
   "outputs": [
    {
     "data": {
      "image/png": "[encoded data removed]",
      "text/plain": [
       "<Figure size 800x400 with 1 Axes>"
      ]
     },
     "metadata": {},
     "output_type": "display_data"
    }
   ],
   "source": [
    "# creating visualizations with wows\n",
    "\n",
    "# sample data\n",
    "status_type = fb['status_type']\n",
    "interactions = fb['num_wows']\n",
    "\n",
    "# creating the bar chart\n",
    "plt.figure(figsize=(8, 4))  \n",
    "plt.bar(status_type, interactions, color='blue')  \n",
    "\n",
    "# adding title and labels\n",
    "plt.title('Wows by Status Type')\n",
    "plt.xlabel('Status Type')\n",
    "plt.ylabel('Interactions')\n",
    "\n",
    "# display the chart\n",
    "plt.show()"
   ]
  },
  {
   "cell_type": "code",
   "execution_count": 424,
   "id": "c2c0031c",
   "metadata": {
    "cell_style": "split"
   },
   "outputs": [
    {
     "data": {
      "image/png": "[encoded data removed]",
      "text/plain": [
       "<Figure size 800x400 with 1 Axes>"
      ]
     },
     "metadata": {},
     "output_type": "display_data"
    }
   ],
   "source": [
    "# creating visualizations with hahas\n",
    "\n",
    "# sample data\n",
    "status_type = fb['status_type']\n",
    "interactions = fb['num_hahas']\n",
    "\n",
    "# creating the bar chart\n",
    "plt.figure(figsize=(8, 4))  \n",
    "plt.bar(status_type, interactions, color='blue')  \n",
    "\n",
    "# adding title and labels\n",
    "plt.title('Hahas by Status Type')\n",
    "plt.xlabel('Status Type')\n",
    "plt.ylabel('Interactions')\n",
    "\n",
    "# display the chart\n",
    "plt.show()"
   ]
  },
  {
   "cell_type": "markdown",
   "id": "ef7a09e4",
   "metadata": {},
   "source": [
    "Finally comparing the total number of sad and angry reactions for each status type. "
   ]
  },
  {
   "cell_type": "code",
   "execution_count": 425,
   "id": "5449aeba",
   "metadata": {
    "cell_style": "split"
   },
   "outputs": [
    {
     "data": {
      "image/png": "[encoded data removed]",
      "text/plain": [
       "<Figure size 800x400 with 1 Axes>"
      ]
     },
     "metadata": {},
     "output_type": "display_data"
    }
   ],
   "source": [
    "# creating visualizations with sads\n",
    "\n",
    "# sample data\n",
    "status_type = fb['status_type']\n",
    "interactions = fb['num_sads']\n",
    "\n",
    "# creating the bar chart\n",
    "plt.figure(figsize=(8, 4))  # Set the size of the figure (optional)\n",
    "plt.bar(status_type, interactions, color='blue')  # Create a bar chart with blue bars\n",
    "\n",
    "# adding title and labels\n",
    "plt.title('Sads by Status Type')\n",
    "plt.xlabel('Status Type')\n",
    "plt.ylabel('Interactions')\n",
    "\n",
    "# display the chart\n",
    "plt.show()"
   ]
  },
  {
   "cell_type": "code",
   "execution_count": 426,
   "id": "83c60753",
   "metadata": {
    "cell_style": "split"
   },
   "outputs": [
    {
     "data": {
      "image/png": "[encoded data removed]",
      "text/plain": [
       "<Figure size 800x400 with 1 Axes>"
      ]
     },
     "metadata": {},
     "output_type": "display_data"
    }
   ],
   "source": [
    "# creating visualizations with angrys\n",
    "\n",
    "# sample data\n",
    "status_type = fb['status_type']\n",
    "interactions = fb['num_angrys']\n",
    "\n",
    "# creating the bar chart\n",
    "plt.figure(figsize=(8, 4))  \n",
    "plt.bar(status_type, interactions, color='blue') \n",
    "\n",
    "# adding title and labels\n",
    "plt.title('Angrys by Status Type')\n",
    "plt.xlabel('Status Type')\n",
    "plt.ylabel('Interactions')\n",
    "\n",
    "# display the chart\n",
    "plt.show()"
   ]
  },
  {
   "cell_type": "markdown",
   "id": "04c6f344",
   "metadata": {},
   "source": [
    "Analysis of reactions and how photos perform compared to other forms of content:\n",
    "\n",
    "Based on the bar charts above we can analyze the performance of photos compared to videos and texts in terms of user engagement. Photos appear to be in a close second place in total engagement as indicated in the first bar chart. They surpass texts by a large margin and are about 2,000 reactions in total behind videos. However, this can still be considered as a high level of engagement and the reason for it might be the visual nature of the content that tends to attract more immediate attention and interaction from users. \n",
    "\n",
    "Looking at comments and shares, the gap between photos and videos becomes even smaller. Comments are a deeper level of engagement than simple reactions and the provided dataset shows that photos stimulate conversation among users effectively. Shares is a reaction that occurs more with photos than with videos. This tendency suggests that this type of content resonates very well so that users want to spread it within their networks. \n",
    "\n",
    "Considering the likes and loves: Photos receive the highest amount of likes. This suggests that photos are the most appreciated content among users, possible due to their immediate visual appeal and easy way to consume. The number of loves is the highest for videos, tremendously higher than for photos. This may suggest that while users are engaged by video content, it does not quite elicit the deeper affection that photos do. \n",
    "\n",
    "Regarding the wows reactions the videos significantly outperform photos and texts. This suggests that video content is more impactful or surprising to the audience. The same goes for the haha reactions, indicating that videos are found more humorous or entertaining than other forms of content. It is noticeable that for both reactions, photos are just slightly higher than texts. \n",
    "\n",
    "Looking at the sad and angry reactions, it is the first time that photos outperform videos and texts by far, especially when it comes to angry reactions. This might be caused by the fact that photos have a stronger emotional impact on users, which can lead to expressions to empathy or sorrow. It is similar with angry reactions, indicating that certain photos provoke a stronger negative sentiment, most likely due to controversial or provocative subjects. "
   ]
  },
  {
   "cell_type": "markdown",
   "id": "3780a198",
   "metadata": {},
   "source": [
    "<h1> Principal Components Analysis </h1>"
   ]
  },
  {
   "cell_type": "code",
   "execution_count": 427,
   "id": "dc630edc",
   "metadata": {
    "code_folding": []
   },
   "outputs": [],
   "source": [
    "# create user-defined functions used throughout this notebook\n",
    "\n",
    "########################################\n",
    "# scree_plot\n",
    "########################################\n",
    "def scree_plot(pca_object, export = False):\n",
    "    \"\"\"\n",
    "    Visualizes a scree plot from a pca object.\n",
    "    \n",
    "    PARAMETERS\n",
    "    ----------\n",
    "    pca_object | A fitted pca object\n",
    "    export     | Set to True if you would like to save the scree plot to the\n",
    "               | current working directory (default: False)\n",
    "    \"\"\"\n",
    "    # building a scree plot\n",
    "\n",
    "    # setting plot size\n",
    "    fig, ax = plt.subplots(figsize=(10, 8))\n",
    "    features = range(pca_object.n_components_)\n",
    "\n",
    "\n",
    "    # developing a scree plot\n",
    "    plt.plot(features,\n",
    "             pca_object.explained_variance_ratio_,\n",
    "             linewidth = 2,\n",
    "             marker = 'o',\n",
    "             markersize = 10,\n",
    "             markeredgecolor = 'black',\n",
    "             markerfacecolor = 'grey')\n",
    "\n",
    "\n",
    "    # setting more plot options\n",
    "    plt.title('Scree Plot')\n",
    "    plt.xlabel('PCA feature')\n",
    "    plt.ylabel('Explained Variance')\n",
    "    plt.xticks(features)\n",
    "    \n",
    "    # adding a vertical line in red\n",
    "    if cutoff is not None:            \n",
    "        plt.axvline(x=cutoff, color='r', linestyle='--', label=f'Cutoff at PC{cutoff}')\n",
    "        plt.legend()\n",
    "        \n",
    "    # displaying the plot\n",
    "    plt.show()\n",
    "\n",
    "\n",
    "########################################\n",
    "# unsupervised_scaler\n",
    "########################################\n",
    "def scaler(df):\n",
    "    \"\"\"\n",
    "    Standardizes a dataset (mean = 0, variance = 1). Returns a new DataFrame.\n",
    "    Requires sklearn.preprocessing.StandardScaler()\n",
    "    \n",
    "    PARAMETERS\n",
    "    ----------\n",
    "    df     | DataFrame to be used for scaling\n",
    "    \"\"\"\n",
    "\n",
    "    # INSTANTIATING a StandardScaler() object\n",
    "    scaler = StandardScaler(copy = True)\n",
    "\n",
    "\n",
    "    # FITTING the scaler with the data\n",
    "    scaler.fit(df)\n",
    "\n",
    "\n",
    "    # TRANSFORMING our data after fit\n",
    "    x_scaled = scaler.transform(df)\n",
    "\n",
    "    \n",
    "    # converting scaled data into a DataFrame\n",
    "    new_df = pd.DataFrame(x_scaled)\n",
    "\n",
    "\n",
    "    # reattaching column names\n",
    "    new_df.columns = list(df.columns)\n",
    "    \n",
    "    return new_df"
   ]
  },
  {
   "cell_type": "markdown",
   "id": "15559b68",
   "metadata": {},
   "source": [
    "<h2> Develop PCA </h2>"
   ]
  },
  {
   "cell_type": "code",
   "execution_count": 428,
   "id": "34f1ea09",
   "metadata": {},
   "outputs": [],
   "source": [
    "# subsetting continuous data\n",
    "fb_data = fb[ ['num_comments', 'num_shares', 'num_likes', \n",
    "               'num_loves', 'num_wows', 'num_hahas', \n",
    "               'num_sads', 'num_angrys'\n",
    "              ]\n",
    "            ]"
   ]
  },
  {
   "cell_type": "code",
   "execution_count": 429,
   "id": "f9bebcc1",
   "metadata": {},
   "outputs": [
    {
     "name": "stdout",
     "output_type": "stream",
     "text": [
      "num_comments    733040.526533\n",
      "num_shares       15315.110634\n",
      "num_likes       218288.813477\n",
      "num_loves         1680.086166\n",
      "num_wows            75.978259\n",
      "num_hahas           16.896863\n",
      "num_sads             3.392409\n",
      "num_angrys           0.817271\n",
      "dtype: float64 \n",
      "\n",
      "\n",
      "num_comments    1.0\n",
      "num_shares      1.0\n",
      "num_likes       1.0\n",
      "num_loves       1.0\n",
      "num_wows        1.0\n",
      "num_hahas       1.0\n",
      "num_sads        1.0\n",
      "num_angrys      1.0\n",
      "dtype: float64\n"
     ]
    },
    {
     "name": "stderr",
     "output_type": "stream",
     "text": [
      "/Users/ts/anaconda3/lib/python3.11/site-packages/numpy/core/fromnumeric.py:3785: FutureWarning: The behavior of DataFrame.var with axis=None is deprecated, in a future version this will reduce over both axes and return a scalar. To retain the old behavior, pass axis=0 (or do not pass axis)\n",
      "  return var(axis=axis, dtype=dtype, out=out, ddof=ddof, **kwargs)\n"
     ]
    }
   ],
   "source": [
    "# scaling variables before correlation analysis\n",
    "\n",
    "fb_scaled = scaler(df = fb_data)\n",
    "\n",
    "# check pre- and post-scaling variance\n",
    "print(np.var(fb_data), '\\n\\n')\n",
    "print(np.var(fb_scaled))"
   ]
  },
  {
   "cell_type": "code",
   "execution_count": 430,
   "id": "6d6b74a6",
   "metadata": {},
   "outputs": [
    {
     "data": {
      "image/png": "[encoded data removed]",
      "text/plain": [
       "<Figure size 800x800 with 2 Axes>"
      ]
     },
     "metadata": {},
     "output_type": "display_data"
    }
   ],
   "source": [
    "# developing a correlation heatmap of the scaled live data features\n",
    "\n",
    "# setting plot size\n",
    "fig, ax = plt.subplots(figsize = (8, 8))\n",
    "\n",
    "\n",
    "# developing a correlation matrix object\n",
    "df_corr = fb_scaled.corr(method = 'pearson').round(decimals = 2)\n",
    "\n",
    "\n",
    "# creating a correlation heatmap\n",
    "sns.heatmap(data   = df_corr,\n",
    "            cmap   = 'Blues',\n",
    "            square = True,\n",
    "            annot  = True)\n",
    "\n",
    "\n",
    "# rendering the heatmap\n",
    "plt.show()"
   ]
  },
  {
   "cell_type": "markdown",
   "id": "a476367f",
   "metadata": {},
   "source": [
    "Since only a few correlations have an absolute value above 0.50, the dataset is a good candidate for PCA. As such, it is possible to explain a high degree of variance with a small number of principal components. "
   ]
  },
  {
   "cell_type": "code",
   "execution_count": 431,
   "id": "5274a6ef",
   "metadata": {},
   "outputs": [
    {
     "name": "stdout",
     "output_type": "stream",
     "text": [
      "Original shape: (2362, 8)\n",
      "PCA shape     : (2362, 8)\n"
     ]
    }
   ],
   "source": [
    "# developing the PCA\n",
    "\n",
    "# INSTANTIATING a PCA object with no limit to principal components\n",
    "pca = PCA(n_components = None,\n",
    "            random_state = 702)\n",
    "\n",
    "\n",
    "# FITTING and TRANSFORMING the scaled data\n",
    "fb_pca = pca.fit_transform(fb_scaled)\n",
    "\n",
    "\n",
    "# comparing dimensions of each DataFrame\n",
    "print(\"Original shape:\", fb_scaled.shape)\n",
    "print(\"PCA shape     :\", fb_pca.shape)"
   ]
  },
  {
   "cell_type": "code",
   "execution_count": 432,
   "id": "6bc4b520",
   "metadata": {},
   "outputs": [
    {
     "data": {
      "text/html": [
       "<div>\n",
       "<style scoped>\n",
       "    .dataframe tbody tr th:only-of-type {\n",
       "        vertical-align: middle;\n",
       "    }\n",
       "\n",
       "    .dataframe tbody tr th {\n",
       "        vertical-align: top;\n",
       "    }\n",
       "\n",
       "    .dataframe thead th {\n",
       "        text-align: right;\n",
       "    }\n",
       "</style>\n",
       "<table border=\"1\" class=\"dataframe\">\n",
       "  <thead>\n",
       "    <tr style=\"text-align: right;\">\n",
       "      <th></th>\n",
       "      <th>0</th>\n",
       "      <th>1</th>\n",
       "      <th>2</th>\n",
       "      <th>3</th>\n",
       "      <th>4</th>\n",
       "      <th>5</th>\n",
       "      <th>6</th>\n",
       "      <th>7</th>\n",
       "    </tr>\n",
       "  </thead>\n",
       "  <tbody>\n",
       "    <tr>\n",
       "      <th>0</th>\n",
       "      <td>-0.619670</td>\n",
       "      <td>-0.006476</td>\n",
       "      <td>0.031211</td>\n",
       "      <td>-0.028140</td>\n",
       "      <td>0.069438</td>\n",
       "      <td>0.030553</td>\n",
       "      <td>0.011254</td>\n",
       "      <td>-0.000399</td>\n",
       "    </tr>\n",
       "    <tr>\n",
       "      <th>1</th>\n",
       "      <td>-0.469623</td>\n",
       "      <td>0.126667</td>\n",
       "      <td>0.013848</td>\n",
       "      <td>-0.028868</td>\n",
       "      <td>0.082735</td>\n",
       "      <td>-0.020934</td>\n",
       "      <td>-0.053784</td>\n",
       "      <td>-0.088186</td>\n",
       "    </tr>\n",
       "    <tr>\n",
       "      <th>2</th>\n",
       "      <td>-0.469004</td>\n",
       "      <td>0.125796</td>\n",
       "      <td>0.015559</td>\n",
       "      <td>-0.028346</td>\n",
       "      <td>0.089355</td>\n",
       "      <td>-0.017813</td>\n",
       "      <td>-0.058132</td>\n",
       "      <td>-0.121798</td>\n",
       "    </tr>\n",
       "    <tr>\n",
       "      <th>3</th>\n",
       "      <td>0.367677</td>\n",
       "      <td>0.240069</td>\n",
       "      <td>-0.089732</td>\n",
       "      <td>-0.314233</td>\n",
       "      <td>0.234662</td>\n",
       "      <td>0.932251</td>\n",
       "      <td>-0.089207</td>\n",
       "      <td>-0.068756</td>\n",
       "    </tr>\n",
       "    <tr>\n",
       "      <th>4</th>\n",
       "      <td>-0.019679</td>\n",
       "      <td>-0.278149</td>\n",
       "      <td>-0.276109</td>\n",
       "      <td>0.109002</td>\n",
       "      <td>0.151739</td>\n",
       "      <td>-0.213950</td>\n",
       "      <td>-0.170986</td>\n",
       "      <td>-0.007108</td>\n",
       "    </tr>\n",
       "    <tr>\n",
       "      <th>...</th>\n",
       "      <td>...</td>\n",
       "      <td>...</td>\n",
       "      <td>...</td>\n",
       "      <td>...</td>\n",
       "      <td>...</td>\n",
       "      <td>...</td>\n",
       "      <td>...</td>\n",
       "      <td>...</td>\n",
       "    </tr>\n",
       "    <tr>\n",
       "      <th>2357</th>\n",
       "      <td>-0.430884</td>\n",
       "      <td>0.084652</td>\n",
       "      <td>-0.004706</td>\n",
       "      <td>-0.030780</td>\n",
       "      <td>-0.039773</td>\n",
       "      <td>0.007068</td>\n",
       "      <td>-0.111433</td>\n",
       "      <td>-0.051283</td>\n",
       "    </tr>\n",
       "    <tr>\n",
       "      <th>2358</th>\n",
       "      <td>-0.667096</td>\n",
       "      <td>-0.222189</td>\n",
       "      <td>0.133994</td>\n",
       "      <td>-0.100760</td>\n",
       "      <td>0.215334</td>\n",
       "      <td>-0.003407</td>\n",
       "      <td>-0.002229</td>\n",
       "      <td>-0.001872</td>\n",
       "    </tr>\n",
       "    <tr>\n",
       "      <th>2359</th>\n",
       "      <td>-0.668470</td>\n",
       "      <td>-0.228442</td>\n",
       "      <td>0.136973</td>\n",
       "      <td>-0.102865</td>\n",
       "      <td>0.219563</td>\n",
       "      <td>-0.004391</td>\n",
       "      <td>-0.002620</td>\n",
       "      <td>-0.001914</td>\n",
       "    </tr>\n",
       "    <tr>\n",
       "      <th>2360</th>\n",
       "      <td>-0.669158</td>\n",
       "      <td>-0.231568</td>\n",
       "      <td>0.138463</td>\n",
       "      <td>-0.103917</td>\n",
       "      <td>0.221677</td>\n",
       "      <td>-0.004884</td>\n",
       "      <td>-0.002815</td>\n",
       "      <td>-0.001936</td>\n",
       "    </tr>\n",
       "    <tr>\n",
       "      <th>2361</th>\n",
       "      <td>-0.667783</td>\n",
       "      <td>-0.225315</td>\n",
       "      <td>0.135484</td>\n",
       "      <td>-0.101812</td>\n",
       "      <td>0.217448</td>\n",
       "      <td>-0.003899</td>\n",
       "      <td>-0.002424</td>\n",
       "      <td>-0.001893</td>\n",
       "    </tr>\n",
       "  </tbody>\n",
       "</table>\n",
       "<p>2362 rows × 8 columns</p>\n",
       "</div>"
      ],
      "text/plain": [
       "             0         1         2         3         4         5         6         7\n",
       "0    -0.619670 -0.006476  0.031211 -0.028140  0.069438  0.030553  0.011254 -0.000399\n",
       "1    -0.469623  0.126667  0.013848 -0.028868  0.082735 -0.020934 -0.053784 -0.088186\n",
       "2    -0.469004  0.125796  0.015559 -0.028346  0.089355 -0.017813 -0.058132 -0.121798\n",
       "3     0.367677  0.240069 -0.089732 -0.314233  0.234662  0.932251 -0.089207 -0.068756\n",
       "4    -0.019679 -0.278149 -0.276109  0.109002  0.151739 -0.213950 -0.170986 -0.007108\n",
       "...        ...       ...       ...       ...       ...       ...       ...       ...\n",
       "2357 -0.430884  0.084652 -0.004706 -0.030780 -0.039773  0.007068 -0.111433 -0.051283\n",
       "2358 -0.667096 -0.222189  0.133994 -0.100760  0.215334 -0.003407 -0.002229 -0.001872\n",
       "2359 -0.668470 -0.228442  0.136973 -0.102865  0.219563 -0.004391 -0.002620 -0.001914\n",
       "2360 -0.669158 -0.231568  0.138463 -0.103917  0.221677 -0.004884 -0.002815 -0.001936\n",
       "2361 -0.667783 -0.225315  0.135484 -0.101812  0.217448 -0.003899 -0.002424 -0.001893\n",
       "\n",
       "[2362 rows x 8 columns]"
      ]
     },
     "execution_count": 432,
     "metadata": {},
     "output_type": "execute_result"
    }
   ],
   "source": [
    "pd.DataFrame(data = fb_pca)"
   ]
  },
  {
   "cell_type": "markdown",
   "id": "6d05e863",
   "metadata": {},
   "source": [
    "<h2> Evaluate PCA Algorithm </h2>"
   ]
  },
  {
   "cell_type": "code",
   "execution_count": 433,
   "id": "b485fae9",
   "metadata": {},
   "outputs": [
    {
     "name": "stdout",
     "output_type": "stream",
     "text": [
      "PC 1: 0.409\n",
      "PC 2: 0.128\n",
      "PC 3: 0.115\n",
      "PC 4: 0.11\n",
      "PC 5: 0.1\n",
      "PC 6: 0.077\n",
      "PC 7: 0.045\n",
      "PC 8: 0.017\n"
     ]
    }
   ],
   "source": [
    "# component number counter\n",
    "component_number = 0\n",
    "\n",
    "# looping over each principal component\n",
    "for variance in pca.explained_variance_ratio_:\n",
    "    component_number += 1\n",
    "    \n",
    "    print(f\"PC {component_number}: {variance.round(decimals = 3)}\")"
   ]
  },
  {
   "cell_type": "code",
   "execution_count": 434,
   "id": "d7383987",
   "metadata": {},
   "outputs": [
    {
     "name": "stdout",
     "output_type": "stream",
     "text": [
      "1.0\n"
     ]
    }
   ],
   "source": [
    "# printing the sum of all explained variance ratios\n",
    "print(pca.explained_variance_ratio_.sum(axis = 0))"
   ]
  },
  {
   "cell_type": "markdown",
   "id": "cc84557c",
   "metadata": {},
   "source": [
    "<h2> Scree Plot </h2>"
   ]
  },
  {
   "cell_type": "code",
   "execution_count": 435,
   "id": "1526d8ad",
   "metadata": {},
   "outputs": [
    {
     "data": {
      "image/png": "[encoded data removed]",
      "text/plain": [
       "<Figure size 1000x800 with 1 Axes>"
      ]
     },
     "metadata": {},
     "output_type": "display_data"
    }
   ],
   "source": [
    "# calling the scree_plot function\n",
    "scree_plot(pca_object = pca)"
   ]
  },
  {
   "cell_type": "markdown",
   "id": "04490a7b",
   "metadata": {},
   "source": [
    "<h2> Interpreting & Analyzing PCA </h2>"
   ]
  },
  {
   "cell_type": "code",
   "execution_count": 436,
   "id": "2eaf0774",
   "metadata": {},
   "outputs": [
    {
     "data": {
      "image/png": "[encoded data removed]",
      "text/plain": [
       "<Figure size 1200x1200 with 2 Axes>"
      ]
     },
     "metadata": {},
     "output_type": "display_data"
    }
   ],
   "source": [
    "# visualize correlations between the original features and the principal components\n",
    "\n",
    "# setting plot size\n",
    "fig, ax = plt.subplots(figsize = (12, 12))\n",
    "\n",
    "\n",
    "# developing a PC to feature heatmap\n",
    "sns.heatmap(pca.components_, \n",
    "            cmap = 'coolwarm',\n",
    "            square = True,\n",
    "            annot = True,\n",
    "            linewidths = 0.1,\n",
    "            linecolor = 'black')\n",
    "\n",
    "\n",
    "# setting more plot options\n",
    "plt.yticks([0, 1, 2, 3, 4, 5, 6, 7],\n",
    "           [\"PC 1\", \"PC 2\", \"PC 3\", \"PC 4\", \"PC 5\", \"PC 6\", \"PC 7\", \"PC 8\"])\n",
    "\n",
    "plt.xticks(range(0, 8),\n",
    "           fb_scaled.columns,\n",
    "           rotation=60,\n",
    "           ha='left')\n",
    "\n",
    "plt.xlabel(xlabel = \"Feature\")\n",
    "plt.ylabel(ylabel = \"Principal Component\")\n",
    "\n",
    "\n",
    "# displaying the plot\n",
    "plt.show()"
   ]
  },
  {
   "cell_type": "code",
   "execution_count": 437,
   "id": "ee6b4fc6",
   "metadata": {},
   "outputs": [],
   "source": [
    "# INSTANTIATING a new model using the first three principal components\n",
    "pca_3 = PCA(n_components = 3,\n",
    "            random_state = 702)\n",
    "\n",
    "\n",
    "# FITTING and TRANSFORMING the purchases_scaled\n",
    "customer_pca_3 = pca_3.fit_transform(X = fb_scaled)"
   ]
  },
  {
   "cell_type": "code",
   "execution_count": 438,
   "id": "d8712a61",
   "metadata": {},
   "outputs": [
    {
     "name": "stdout",
     "output_type": "stream",
     "text": [
      "\n",
      "MAX Components Factor Loadings\n",
      "------------------------------\n",
      "                 0     1     2     3     4     5     6     7\n",
      "num_comments  0.41 -0.31 -0.03 -0.20 -0.39 -0.18  0.67 -0.24\n",
      "num_shares    0.49 -0.12  0.05 -0.17 -0.21 -0.22 -0.33  0.71\n",
      "num_likes     0.16  0.73 -0.35  0.25 -0.49  0.11  0.05  0.00\n",
      "num_loves     0.50  0.00  0.06 -0.08  0.01 -0.06 -0.56 -0.65\n",
      "num_wows      0.30  0.48  0.08 -0.08  0.64 -0.42  0.29  0.04\n",
      "num_hahas     0.37  0.01 -0.05 -0.20  0.28  0.84  0.14  0.12\n",
      "num_sads      0.20 -0.35 -0.68  0.54  0.27 -0.09 -0.01  0.03\n",
      "num_angrys    0.22 -0.04  0.63  0.72 -0.04  0.11  0.11  0.04\n",
      "\n",
      "\n",
      "3 Components Factor Loadings\n",
      "------------------------------\n",
      "                 0     1     2\n",
      "num_comments  0.41 -0.31 -0.03\n",
      "num_shares    0.49 -0.12  0.05\n",
      "num_likes     0.16  0.73 -0.35\n",
      "num_loves     0.50  0.00  0.06\n",
      "num_wows      0.30  0.48  0.08\n",
      "num_hahas     0.37  0.01 -0.05\n",
      "num_sads      0.20 -0.35 -0.68\n",
      "num_angrys    0.22 -0.04  0.63\n",
      "\n"
     ]
    }
   ],
   "source": [
    "####################\n",
    "### Max PC Model ###\n",
    "####################\n",
    "# transposing pca components (pc = MAX)\n",
    "factor_loadings = pd.DataFrame(np.transpose(pca.components_))\n",
    "\n",
    "\n",
    "# naming rows as original features\n",
    "factor_loadings = factor_loadings.set_index(fb_scaled.columns)\n",
    "\n",
    "\n",
    "##################\n",
    "### 3 PC Model ###\n",
    "##################\n",
    "# transposing pca components (pc = 3)\n",
    "factor_loadings_3 = pd.DataFrame(np.transpose(pca_3.components_))\n",
    "\n",
    "\n",
    "# naming rows as original features\n",
    "factor_loadings_3 = factor_loadings_3.set_index(fb_scaled.columns)\n",
    "\n",
    "\n",
    "# checking the results\n",
    "print(f\"\"\"\n",
    "MAX Components Factor Loadings\n",
    "------------------------------\n",
    "{factor_loadings.round(2)}\n",
    "\n",
    "\n",
    "3 Components Factor Loadings\n",
    "------------------------------\n",
    "{factor_loadings_3.round(2)}\n",
    "\"\"\")"
   ]
  },
  {
   "cell_type": "markdown",
   "id": "b34b2198",
   "metadata": {},
   "source": [
    "Interpreting each of the retained principal components:\n",
    "\n",
    "PC 0: The positive side of this component is strongly associated with 'num_comments', 'num_shares' and 'num_loves'. Overall does this component have associations with every reaction. This suggests that a post is likely to have a higher level of active engagement, in which the users are not only viewing or liking the content but are also actively participating by commenting and sharing. On the other side, it could also indicate posts that have less active engagement. This component could be considered as \"Active Engagement Score\". It reflects both comments and shares, which are proactive forms of engagement on social media advertisements.  \n",
    "\n",
    "PC 1: This component has a very strong correlation with positive 'num_likes' as well as with 'num_wows'. Also it is associated with the 'num_sads'. On the other side, there is no or only a little assocation with 'num_shares', 'num_loves', 'num_hahas' and 'num_angrys'. Thus, it is most likely to be a strongly polarizing post. PC 1 could therefore be considered as the \"Popularity Score\". Likes are the main indicator of popularity on social media. \n",
    "\n",
    "PC 2: This component indicates a strong negative association with 'num_sads' and positive association with 'num_angrys'. It could be an indicator for a post with a content that upsets the viewers or makes them feel sad. Looking at the number of comments, shares, loves, wows and hahas, it is noticeable that there are no close correlations. Thus, component PC 2 can be considered as \"Sentiment Contrast Score\"."
   ]
  },
  {
   "cell_type": "code",
   "execution_count": 439,
   "id": "e4b7c4f8",
   "metadata": {},
   "outputs": [
    {
     "data": {
      "text/html": [
       "<div>\n",
       "<style scoped>\n",
       "    .dataframe tbody tr th:only-of-type {\n",
       "        vertical-align: middle;\n",
       "    }\n",
       "\n",
       "    .dataframe tbody tr th {\n",
       "        vertical-align: top;\n",
       "    }\n",
       "\n",
       "    .dataframe thead th {\n",
       "        text-align: right;\n",
       "    }\n",
       "</style>\n",
       "<table border=\"1\" class=\"dataframe\">\n",
       "  <thead>\n",
       "    <tr style=\"text-align: right;\">\n",
       "      <th></th>\n",
       "      <th>Active Engagement Score</th>\n",
       "      <th>Popularity Score</th>\n",
       "      <th>Sentiment Contrast Score</th>\n",
       "    </tr>\n",
       "  </thead>\n",
       "  <tbody>\n",
       "    <tr>\n",
       "      <th>num_comments</th>\n",
       "      <td>0.41</td>\n",
       "      <td>-0.31</td>\n",
       "      <td>-0.03</td>\n",
       "    </tr>\n",
       "    <tr>\n",
       "      <th>num_shares</th>\n",
       "      <td>0.49</td>\n",
       "      <td>-0.12</td>\n",
       "      <td>0.05</td>\n",
       "    </tr>\n",
       "    <tr>\n",
       "      <th>num_likes</th>\n",
       "      <td>0.16</td>\n",
       "      <td>0.73</td>\n",
       "      <td>-0.35</td>\n",
       "    </tr>\n",
       "    <tr>\n",
       "      <th>num_loves</th>\n",
       "      <td>0.50</td>\n",
       "      <td>0.00</td>\n",
       "      <td>0.06</td>\n",
       "    </tr>\n",
       "    <tr>\n",
       "      <th>num_wows</th>\n",
       "      <td>0.30</td>\n",
       "      <td>0.48</td>\n",
       "      <td>0.08</td>\n",
       "    </tr>\n",
       "    <tr>\n",
       "      <th>num_hahas</th>\n",
       "      <td>0.37</td>\n",
       "      <td>0.01</td>\n",
       "      <td>-0.05</td>\n",
       "    </tr>\n",
       "    <tr>\n",
       "      <th>num_sads</th>\n",
       "      <td>0.20</td>\n",
       "      <td>-0.35</td>\n",
       "      <td>-0.68</td>\n",
       "    </tr>\n",
       "    <tr>\n",
       "      <th>num_angrys</th>\n",
       "      <td>0.22</td>\n",
       "      <td>-0.04</td>\n",
       "      <td>0.63</td>\n",
       "    </tr>\n",
       "  </tbody>\n",
       "</table>\n",
       "</div>"
      ],
      "text/plain": [
       "              Active Engagement Score  Popularity Score  Sentiment Contrast Score\n",
       "num_comments                     0.41             -0.31                     -0.03\n",
       "num_shares                       0.49             -0.12                      0.05\n",
       "num_likes                        0.16              0.73                     -0.35\n",
       "num_loves                        0.50              0.00                      0.06\n",
       "num_wows                         0.30              0.48                      0.08\n",
       "num_hahas                        0.37              0.01                     -0.05\n",
       "num_sads                         0.20             -0.35                     -0.68\n",
       "num_angrys                       0.22             -0.04                      0.63"
      ]
     },
     "execution_count": 439,
     "metadata": {},
     "output_type": "execute_result"
    }
   ],
   "source": [
    "# naming each principal component\n",
    "factor_loadings_3.columns = ['Active Engagement Score', \n",
    "                           'Popularity Score',      \n",
    "                           'Sentiment Contrast Score']   \n",
    "\n",
    "# checking the result\n",
    "factor_loadings_3.head(n=8).round(2)"
   ]
  },
  {
   "cell_type": "markdown",
   "id": "0477522f",
   "metadata": {},
   "source": [
    "<h1> Develop Segmentation with K-Means Clustering </h1>"
   ]
  },
  {
   "cell_type": "markdown",
   "id": "bbb970ab",
   "metadata": {},
   "source": [
    "Upon examination of the data through the scree plot in chapter 3, it was observed that the rate of decrease in explained variance significantly flattened after the third cluster. This elbow in the scree plot suggests that additional clusters beyond three would not contribute further valuable insights. Also, choosing three groups made sense because it split the data in a way that matches up well with different ways people interact on Facebook. This split helps us get a clearer picture of our audience and makes it easy to use this information for planning our marketing. "
   ]
  },
  {
   "cell_type": "code",
   "execution_count": 440,
   "id": "fe75f93d",
   "metadata": {},
   "outputs": [],
   "source": [
    "# analyzing factor strengths per customer\n",
    "factor_loadings = pca_3.transform(fb_scaled)\n",
    "\n",
    "\n",
    "# converting to a DataFrame\n",
    "factor_loadings_df = pd.DataFrame(data = factor_loadings)\n",
    "\n",
    "\n",
    "# renaming columns\n",
    "factor_loadings_df.columns = factor_loadings_3.columns"
   ]
  },
  {
   "cell_type": "code",
   "execution_count": 441,
   "id": "261ba21c",
   "metadata": {},
   "outputs": [
    {
     "name": "stdout",
     "output_type": "stream",
     "text": [
      "Active Engagement Score     3.273609\n",
      "Popularity Score            1.025052\n",
      "Sentiment Contrast Score    0.916344\n",
      "dtype: float64 \n",
      "\n",
      "\n",
      "Active Engagement Score     1.0\n",
      "Popularity Score            1.0\n",
      "Sentiment Contrast Score    1.0\n",
      "dtype: float64\n"
     ]
    },
    {
     "name": "stderr",
     "output_type": "stream",
     "text": [
      "/Users/ts/anaconda3/lib/python3.11/site-packages/numpy/core/fromnumeric.py:3785: FutureWarning: The behavior of DataFrame.var with axis=None is deprecated, in a future version this will reduce over both axes and return a scalar. To retain the old behavior, pass axis=0 (or do not pass axis)\n",
      "  return var(axis=axis, dtype=dtype, out=out, ddof=ddof, **kwargs)\n"
     ]
    }
   ],
   "source": [
    "# applying the unsupervised_scaler function\n",
    "pca_rescaled = scaler(df = factor_loadings_df )\n",
    "\n",
    "\n",
    "# checking pre- and post-scaling variance\n",
    "print(np.var(factor_loadings_df), '\\n\\n')\n",
    "print(np.var(pca_rescaled))"
   ]
  },
  {
   "cell_type": "markdown",
   "id": "b02a0982",
   "metadata": {},
   "source": [
    "Agglomarative clustering - testing three methods 'ward', 'average' and 'complete'"
   ]
  },
  {
   "cell_type": "code",
   "execution_count": 442,
   "id": "7a361c44",
   "metadata": {},
   "outputs": [
    {
     "data": {
      "image/png": "[encoded data removed]",
      "text/plain": [
       "<Figure size 1200x1200 with 1 Axes>"
      ]
     },
     "metadata": {},
     "output_type": "display_data"
    }
   ],
   "source": [
    "# grouping data based on Ward distance\n",
    "standard_mergings_ward = linkage(y = pca_rescaled,\n",
    "                                 method = 'ward',\n",
    "                                 optimal_ordering = True)\n",
    "\n",
    "\n",
    "# setting plot size\n",
    "fig, ax = plt.subplots(figsize=(12, 12))\n",
    "\n",
    "# developing a dendrogram\n",
    "dendrogram(Z = standard_mergings_ward,\n",
    "           leaf_rotation  = 90       ,\n",
    "           leaf_font_size = 6        )\n",
    "\n",
    "\n",
    "# rendering the plot\n",
    "plt.show()"
   ]
  },
  {
   "cell_type": "code",
   "execution_count": 443,
   "id": "daad5d20",
   "metadata": {},
   "outputs": [
    {
     "name": "stdout",
     "output_type": "stream",
     "text": [
      "Cluster\n",
      "1    2138\n",
      "0     135\n",
      "2      89\n",
      "Name: count, dtype: int64\n"
     ]
    }
   ],
   "source": [
    "# develop a k-Means model with x clusters\n",
    "\n",
    "# INSTANTIATING a k-Means object with five clusters\n",
    "fb_k_pca = KMeans(n_clusters   = 3    ,\n",
    "                  n_init       = 'auto',\n",
    "                  random_state = 702   )\n",
    "\n",
    "\n",
    "# fitting the object to the data\n",
    "fb_k_pca.fit(pca_rescaled)\n",
    "\n",
    "\n",
    "# converting the clusters to a DataFrame\n",
    "fb_kmeans_pca = pd.DataFrame({'Cluster': fb_k_pca.labels_})\n",
    "\n",
    "\n",
    "# checking the results\n",
    "print(fb_kmeans_pca.iloc[: , 0].value_counts())"
   ]
  },
  {
   "cell_type": "code",
   "execution_count": 444,
   "id": "b8ea25bb",
   "metadata": {},
   "outputs": [
    {
     "data": {
      "text/html": [
       "<div>\n",
       "<style scoped>\n",
       "    .dataframe tbody tr th:only-of-type {\n",
       "        vertical-align: middle;\n",
       "    }\n",
       "\n",
       "    .dataframe tbody tr th {\n",
       "        vertical-align: top;\n",
       "    }\n",
       "\n",
       "    .dataframe thead th {\n",
       "        text-align: right;\n",
       "    }\n",
       "</style>\n",
       "<table border=\"1\" class=\"dataframe\">\n",
       "  <thead>\n",
       "    <tr style=\"text-align: right;\">\n",
       "      <th></th>\n",
       "      <th>Engagement Intensity</th>\n",
       "      <th>Sentiment Polarization</th>\n",
       "      <th>Light-Hearted Engagement</th>\n",
       "    </tr>\n",
       "  </thead>\n",
       "  <tbody>\n",
       "    <tr>\n",
       "      <th>0</th>\n",
       "      <td>0.41</td>\n",
       "      <td>2.94</td>\n",
       "      <td>-1.09</td>\n",
       "    </tr>\n",
       "    <tr>\n",
       "      <th>1</th>\n",
       "      <td>-0.18</td>\n",
       "      <td>-0.13</td>\n",
       "      <td>0.10</td>\n",
       "    </tr>\n",
       "    <tr>\n",
       "      <th>2</th>\n",
       "      <td>3.77</td>\n",
       "      <td>-1.40</td>\n",
       "      <td>-0.78</td>\n",
       "    </tr>\n",
       "  </tbody>\n",
       "</table>\n",
       "</div>"
      ],
      "text/plain": [
       "   Engagement Intensity  Sentiment Polarization  Light-Hearted Engagement\n",
       "0                  0.41                    2.94                     -1.09\n",
       "1                 -0.18                   -0.13                      0.10\n",
       "2                  3.77                   -1.40                     -0.78"
      ]
     },
     "execution_count": 444,
     "metadata": {},
     "output_type": "execute_result"
    }
   ],
   "source": [
    "# displaying the centroids (mean values) for each cluster\n",
    "\n",
    "# storing cluster centers\n",
    "centroids_pca = fb_k_pca.cluster_centers_\n",
    "\n",
    "\n",
    "# converting cluster centers into a DataFrame\n",
    "centroids_pca_df = pd.DataFrame(data = centroids_pca).round(decimals = 2)\n",
    "\n",
    "\n",
    "# renaming principal components\n",
    "centroids_pca_df.columns = ['Engagement Intensity',\n",
    "                           'Sentiment Polarization',      \n",
    "                           'Light-Hearted Engagement']\n",
    "\n",
    "\n",
    "# checking results (clusters = rows, pc = columns)\n",
    "centroids_pca_df.round(decimals = 2)"
   ]
  },
  {
   "cell_type": "code",
   "execution_count": 445,
   "id": "d0cc0bee",
   "metadata": {},
   "outputs": [
    {
     "data": {
      "text/plain": [
       "Index(['status_id', 'status_type', 'time_published', 'num_comments', 'num_shares', 'num_likes', 'num_loves', 'num_wows', 'num_hahas', 'num_sads', 'num_angrys', 'total_engagement'], dtype='object')"
      ]
     },
     "execution_count": 445,
     "metadata": {},
     "output_type": "execute_result"
    }
   ],
   "source": [
    "# check the columns of fb\n",
    "fb.columns"
   ]
  },
  {
   "cell_type": "code",
   "execution_count": 446,
   "id": "f9d0c9cb",
   "metadata": {},
   "outputs": [
    {
     "name": "stdout",
     "output_type": "stream",
     "text": [
      "  status_type  Cluster  Engagement Intensity  Sentiment Polarization  Light-Hearted Engagement\n",
      "0       photo        1                 -0.62                   -0.01                      0.03\n",
      "1       photo        1                 -0.47                    0.13                      0.01\n",
      "2       photo        1                 -0.47                    0.13                      0.02\n",
      "3       video        1                  0.37                    0.24                     -0.09\n",
      "4       video        1                 -0.02                   -0.28                     -0.28\n"
     ]
    }
   ],
   "source": [
    "# concatenate status_type, time_published and PCA components into one DataFrame\n",
    "\n",
    "# concatenating cluster memberships with principal components\n",
    "clst_pca_df = pd.concat([fb_kmeans_pca,\n",
    "                         factor_loadings_df],\n",
    "                         axis = 1)\n",
    "\n",
    "\n",
    "# concatenating demographic information with pca-clusters\n",
    "final_df = pd.concat([fb.loc[ : , ['status_type']],\n",
    "                      clst_pca_df.round(decimals = 2)],\n",
    "                      axis = 1)\n",
    "\n",
    "\n",
    "# renaming columns\n",
    "final_df.columns = ['status_type', 'Cluster',\n",
    "                    'Engagement Intensity',\n",
    "                    'Sentiment Polarization',      \n",
    "                    'Light-Hearted Engagement']\n",
    "\n",
    "\n",
    "# checking the results\n",
    "print(final_df.head(n = 5))"
   ]
  },
  {
   "cell_type": "code",
   "execution_count": 447,
   "id": "d8eda8bb",
   "metadata": {},
   "outputs": [
    {
     "name": "stdout",
     "output_type": "stream",
     "text": [
      " -----------\n",
      "| Cluster 0 |\n",
      " -----------\n",
      "\n",
      "Proportion of Observations\n",
      "--------------------------\n",
      "0.06\n",
      "\n",
      "\n",
      "Centroids\n",
      "---------\n",
      "Cluster                     1.00\n",
      "Active Engagement Score    -0.62\n",
      "Popularity Score           -0.01\n",
      "Sentiment Contrast Score    0.03\n",
      "\n",
      "\n",
      "Status Type\n",
      "-----------\n",
      "status_type\n",
      "photo    0.54\n",
      "text     0.21\n",
      "video    0.24\n",
      "\n"
     ]
    }
   ],
   "source": [
    "# dynamic string with value counts for each demographic (cluster 0)\n",
    "cluster_id = 0  # cluster 1\n",
    "cluster_filter = final_df['Cluster'] == cluster_id\n",
    "\n",
    "print(f\"\"\"\\\n",
    " -----------\n",
    "| Cluster {cluster_id} |\n",
    " -----------\n",
    "\n",
    "Proportion of Observations\n",
    "--------------------------\n",
    "{round(len(final_df[cluster_filter]) / len(final_df), ndigits = 2)}\n",
    "\n",
    "\n",
    "Centroids\n",
    "---------\n",
    "{clst_pca_df.loc[cluster_id].to_string(float_format=\"{:0.2f}\".format, dtype=False, name=False)}\n",
    "\n",
    "\n",
    "Status Type\n",
    "-----------\n",
    "{final_df.loc[cluster_filter, \"status_type\"]\n",
    "         .value_counts(normalize = True)\n",
    "         .round(decimals = 2)\n",
    "         .sort_index().to_string(dtype = False, name = False)}\n",
    "\"\"\")"
   ]
  },
  {
   "cell_type": "code",
   "execution_count": 448,
   "id": "28b2053a",
   "metadata": {},
   "outputs": [
    {
     "name": "stdout",
     "output_type": "stream",
     "text": [
      " -----------\n",
      "| Cluster 1 |\n",
      " -----------\n",
      "\n",
      "Proportion of Observations\n",
      "--------------------------\n",
      "0.91\n",
      "\n",
      "\n",
      "Centroids\n",
      "---------\n",
      "Cluster                     1.00\n",
      "Active Engagement Score    -0.47\n",
      "Popularity Score            0.13\n",
      "Sentiment Contrast Score    0.01\n",
      "\n",
      "\n",
      "Status Type\n",
      "-----------\n",
      "status_type\n",
      "photo    0.64\n",
      "text     0.06\n",
      "video    0.30\n",
      "\n"
     ]
    }
   ],
   "source": [
    "# dynamic string with value counts for each demographic (cluster 0)\n",
    "cluster_id = 1  # cluster 2\n",
    "cluster_filter = final_df['Cluster'] == cluster_id\n",
    "\n",
    "print(f\"\"\"\\\n",
    " -----------\n",
    "| Cluster {cluster_id} |\n",
    " -----------\n",
    "\n",
    "Proportion of Observations\n",
    "--------------------------\n",
    "{round(len(final_df[cluster_filter]) / len(final_df), ndigits = 2)}\n",
    "\n",
    "\n",
    "Centroids\n",
    "---------\n",
    "{clst_pca_df.loc[cluster_id].to_string(float_format=\"{:0.2f}\".format, dtype=False, name=False)}\n",
    "\n",
    "\n",
    "Status Type\n",
    "-----------\n",
    "{final_df.loc[cluster_filter, \"status_type\"]\n",
    "         .value_counts(normalize = True)\n",
    "         .round(decimals = 2)\n",
    "         .sort_index().to_string(dtype = False, name = False)}\n",
    "\"\"\")"
   ]
  },
  {
   "cell_type": "code",
   "execution_count": 449,
   "id": "e13c4060",
   "metadata": {},
   "outputs": [
    {
     "name": "stdout",
     "output_type": "stream",
     "text": [
      " -----------\n",
      "| Cluster 2 |\n",
      " -----------\n",
      "\n",
      "Proportion of Observations\n",
      "--------------------------\n",
      "0.04\n",
      "\n",
      "\n",
      "Centroids\n",
      "---------\n",
      "Cluster                     1.00\n",
      "Active Engagement Score    -0.47\n",
      "Popularity Score            0.13\n",
      "Sentiment Contrast Score    0.02\n",
      "\n",
      "\n",
      "Status Type\n",
      "-----------\n",
      "status_type\n",
      "photo    0.07\n",
      "video    0.93\n",
      "\n"
     ]
    }
   ],
   "source": [
    "# dynamic string with value counts for each demographic (cluster 0)\n",
    "cluster_id = 2  # cluster 3\n",
    "cluster_filter = final_df['Cluster'] == cluster_id\n",
    "\n",
    "print(f\"\"\"\\\n",
    " -----------\n",
    "| Cluster {cluster_id} |\n",
    " -----------\n",
    "\n",
    "Proportion of Observations\n",
    "--------------------------\n",
    "{round(len(final_df[cluster_filter]) / len(final_df), ndigits = 2)}\n",
    "\n",
    "\n",
    "Centroids\n",
    "---------\n",
    "{clst_pca_df.loc[cluster_id].to_string(float_format=\"{:0.2f}\".format, dtype=False, name=False)}\n",
    "\n",
    "\n",
    "Status Type\n",
    "-----------\n",
    "{final_df.loc[cluster_filter, \"status_type\"]\n",
    "         .value_counts(normalize = True)\n",
    "         .round(decimals = 2)\n",
    "         .sort_index().to_string(dtype = False, name = False)}\n",
    "\"\"\")"
   ]
  },
  {
   "cell_type": "markdown",
   "id": "6e8fdac2",
   "metadata": {},
   "source": [
    "Cluster 0: It represents a very small proportion of observations with only 6% and it is characterized by a high Active Engagement Score. The Popularity Score and Sentiment Contrast Score are close to zero, leaving the insight that posts in this cluster have a neutral sentiment and an average popularity. Cluster 0 is dominated by photos, which make up over half of the posts. An example of a post for Cluster 0 could be a photo that triggers a high level of user interaction through comments and shares, caused by its compelling content. Something like an announcement or a call to action would belong to this cluster. \n",
    "\n",
    "Cluster 1: It contains the majority of the dataset with 91% of all observations. Compared to Cluster 1 it has a slightly smaller Active Engagement Score but a higher Popularity Score. The distribution of photos as a status type is even more dominant than in the first cluster, making up to 64%. A normal post for Cluster 1 could be a photo with a general appeal, such as a everyday life snapshot or standard marketing images, which receive a decent amount of likes and tend to be shared and commented too. \n",
    "\n",
    "Cluster 2: It is the smallest segment, making up only 4% of all observations. The scores are mainly similar to those of Cluster 1 but it is noticeable that in this cluster photos are only a minority with 7%. The rest, 93% are video posts. Therefore a normal post for Cluster 2 could be a video that achieves high views and some interactions like comments but does not lead to as much active engagement as the ones in Cluster 0.\n",
    "\n",
    "\n",
    "Overall photos are a common form of content, indicating their importance in engagement on the platform and its value. Since they make up for the majority in the two biggest segments, it further underscores their relevance. \n",
    "These insights reveal the crucial role that photos play in user engagement at Facebook, especially when looking to maximize interaction. However, for content that aimes for high view counts and a moderate popularity, videos may be more effective. "
   ]
  },
  {
   "cell_type": "markdown",
   "id": "c4402b2d",
   "metadata": {},
   "source": [
    "<h1> Developing Logistic Regression Models </h1>"
   ]
  },
  {
   "cell_type": "code",
   "execution_count": 450,
   "id": "feb5b99c",
   "metadata": {},
   "outputs": [
    {
     "data": {
      "text/html": [
       "<div>\n",
       "<style scoped>\n",
       "    .dataframe tbody tr th:only-of-type {\n",
       "        vertical-align: middle;\n",
       "    }\n",
       "\n",
       "    .dataframe tbody tr th {\n",
       "        vertical-align: top;\n",
       "    }\n",
       "\n",
       "    .dataframe thead th {\n",
       "        text-align: right;\n",
       "    }\n",
       "</style>\n",
       "<table border=\"1\" class=\"dataframe\">\n",
       "  <thead>\n",
       "    <tr style=\"text-align: right;\">\n",
       "      <th></th>\n",
       "      <th>status_id</th>\n",
       "      <th>status_type</th>\n",
       "      <th>time_published</th>\n",
       "      <th>num_comments</th>\n",
       "      <th>num_shares</th>\n",
       "      <th>num_likes</th>\n",
       "      <th>num_loves</th>\n",
       "      <th>num_wows</th>\n",
       "      <th>num_hahas</th>\n",
       "      <th>num_sads</th>\n",
       "      <th>num_angrys</th>\n",
       "      <th>total_engagement</th>\n",
       "      <th>status_type_numeric</th>\n",
       "    </tr>\n",
       "  </thead>\n",
       "  <tbody>\n",
       "    <tr>\n",
       "      <th>0</th>\n",
       "      <td>1</td>\n",
       "      <td>photo</td>\n",
       "      <td>2023-07-04 22:45:00</td>\n",
       "      <td>0</td>\n",
       "      <td>0</td>\n",
       "      <td>150</td>\n",
       "      <td>0</td>\n",
       "      <td>0</td>\n",
       "      <td>0</td>\n",
       "      <td>0</td>\n",
       "      <td>0</td>\n",
       "      <td>150</td>\n",
       "      <td>1</td>\n",
       "    </tr>\n",
       "    <tr>\n",
       "      <th>1</th>\n",
       "      <td>2</td>\n",
       "      <td>photo</td>\n",
       "      <td>2023-06-23 01:01:00</td>\n",
       "      <td>2</td>\n",
       "      <td>3</td>\n",
       "      <td>202</td>\n",
       "      <td>7</td>\n",
       "      <td>1</td>\n",
       "      <td>0</td>\n",
       "      <td>0</td>\n",
       "      <td>0</td>\n",
       "      <td>215</td>\n",
       "      <td>1</td>\n",
       "    </tr>\n",
       "    <tr>\n",
       "      <th>2</th>\n",
       "      <td>3</td>\n",
       "      <td>photo</td>\n",
       "      <td>2023-06-21 02:23:00</td>\n",
       "      <td>4</td>\n",
       "      <td>0</td>\n",
       "      <td>200</td>\n",
       "      <td>8</td>\n",
       "      <td>1</td>\n",
       "      <td>0</td>\n",
       "      <td>0</td>\n",
       "      <td>0</td>\n",
       "      <td>213</td>\n",
       "      <td>1</td>\n",
       "    </tr>\n",
       "    <tr>\n",
       "      <th>3</th>\n",
       "      <td>4</td>\n",
       "      <td>video</td>\n",
       "      <td>2023-06-14 05:16:00</td>\n",
       "      <td>100</td>\n",
       "      <td>30</td>\n",
       "      <td>303</td>\n",
       "      <td>23</td>\n",
       "      <td>1</td>\n",
       "      <td>5</td>\n",
       "      <td>0</td>\n",
       "      <td>0</td>\n",
       "      <td>462</td>\n",
       "      <td>0</td>\n",
       "    </tr>\n",
       "    <tr>\n",
       "      <th>4</th>\n",
       "      <td>5</td>\n",
       "      <td>video</td>\n",
       "      <td>2023-06-08 08:28:00</td>\n",
       "      <td>173</td>\n",
       "      <td>47</td>\n",
       "      <td>132</td>\n",
       "      <td>16</td>\n",
       "      <td>1</td>\n",
       "      <td>0</td>\n",
       "      <td>1</td>\n",
       "      <td>0</td>\n",
       "      <td>370</td>\n",
       "      <td>0</td>\n",
       "    </tr>\n",
       "  </tbody>\n",
       "</table>\n",
       "</div>"
      ],
      "text/plain": [
       "   status_id status_type      time_published  num_comments  num_shares  num_likes  num_loves  num_wows  num_hahas  num_sads  num_angrys  total_engagement  status_type_numeric\n",
       "0          1       photo 2023-07-04 22:45:00             0           0        150          0         0          0         0           0               150                    1\n",
       "1          2       photo 2023-06-23 01:01:00             2           3        202          7         1          0         0           0               215                    1\n",
       "2          3       photo 2023-06-21 02:23:00             4           0        200          8         1          0         0           0               213                    1\n",
       "3          4       video 2023-06-14 05:16:00           100          30        303         23         1          5         0           0               462                    0\n",
       "4          5       video 2023-06-08 08:28:00           173          47        132         16         1          0         1           0               370                    0"
      ]
     },
     "execution_count": 450,
     "metadata": {},
     "output_type": "execute_result"
    }
   ],
   "source": [
    "# turning status_type into numeric (1 = photo, 0 = not photo)\n",
    "fb['status_type_numeric'] = np.where(fb['status_type'] == 'photo', 1, 0)\n",
    "\n",
    "# check results\n",
    "fb.head(5)"
   ]
  },
  {
   "cell_type": "code",
   "execution_count": 451,
   "id": "67fe73c2",
   "metadata": {},
   "outputs": [],
   "source": [
    "# declaring the y_variable\n",
    "y_variable = 'status_type_numeric'"
   ]
  },
  {
   "cell_type": "markdown",
   "id": "af4b2f1f",
   "metadata": {},
   "source": [
    "<h2> Model 1: Original x-Features </h2>"
   ]
  },
  {
   "cell_type": "code",
   "execution_count": 452,
   "id": "3aedc367",
   "metadata": {},
   "outputs": [],
   "source": [
    "# declaring x_features\n",
    "x_features = ['status_id', \n",
    "              'status_type', \n",
    "              'time_published', \n",
    "              'num_comments', \n",
    "              'num_shares', \n",
    "              'num_likes', \n",
    "              'num_loves', \n",
    "              'num_wows', \n",
    "              'num_hahas', \n",
    "              'num_sads', \n",
    "              'num_angrys', \n",
    "              'total_engagement'\n",
    "             ]"
   ]
  },
  {
   "cell_type": "code",
   "execution_count": 453,
   "id": "f48ae7b2",
   "metadata": {},
   "outputs": [
    {
     "name": "stdout",
     "output_type": "stream",
     "text": [
      "\n",
      "Original Dataset Dimensions\n",
      "---------------------------\n",
      "Observations (Rows): 2362\n",
      "Features  (Columns): 13\n",
      "\n",
      "\n",
      "Training Data (X-side)\n",
      "----------------------\n",
      "Observations (Rows): 1771\n",
      "Features  (Columns): 10\n",
      "\n",
      "\n",
      "Training Data (y-side)\n",
      "----------------------\n",
      "Feature Name:        status_type_numeric\n",
      "Observations (Rows): 1771\n",
      "\n",
      "\n",
      "Testing Data (X-side)\n",
      "---------------------\n",
      "Observations (Rows): 591\n",
      "Features  (Columns): 10\n",
      "\n",
      "\n",
      "Testing Data (y-side)\n",
      "---------------------\n",
      "Feature Name:        status_type_numeric\n",
      "Observations (Rows): 591\n"
     ]
    }
   ],
   "source": [
    "# import necessary libraries and packages\n",
    "import pandas as pd\n",
    "from sklearn.model_selection import train_test_split\n",
    "from sklearn.impute import SimpleImputer\n",
    "from sklearn.compose import ColumnTransformer\n",
    "from sklearn.pipeline import Pipeline\n",
    "from sklearn.preprocessing import StandardScaler\n",
    "from sklearn.metrics import accuracy_score\n",
    "from sklearn.linear_model import LogisticRegression\n",
    "\n",
    "y_data = fb[y_variable]\n",
    "\n",
    "# removing non-numeric columns and missing values\n",
    "x_data = fb[x_features].copy().select_dtypes(include=[int, float]).dropna(axis = 1)\n",
    "\n",
    "# storing remaining x_features after the step above\n",
    "x_features = list(x_data.columns)\n",
    "\n",
    "# train-test split (to validate the model)\n",
    "x_train, x_test, y_train, y_test = train_test_split(x_data, \n",
    "                                                    y_data, \n",
    "                                                    test_size    = 0.25,\n",
    "                                                    random_state = 702,\n",
    "                                                    )\n",
    "\n",
    "# results of train-test split\n",
    "print(f\"\"\"\n",
    "Original Dataset Dimensions\n",
    "---------------------------\n",
    "Observations (Rows): {fb.shape[0]}\n",
    "Features  (Columns): {fb.shape[1]}\n",
    "\n",
    "\n",
    "Training Data (X-side)\n",
    "----------------------\n",
    "Observations (Rows): {x_train.shape[0]}\n",
    "Features  (Columns): {x_train.shape[1]}\n",
    "\n",
    "\n",
    "Training Data (y-side)\n",
    "----------------------\n",
    "Feature Name:        {y_train.name}\n",
    "Observations (Rows): {y_train.shape[0]}\n",
    "\n",
    "\n",
    "Testing Data (X-side)\n",
    "---------------------\n",
    "Observations (Rows): {x_test.shape[0]}\n",
    "Features  (Columns): {x_test.shape[1]}\n",
    "\n",
    "\n",
    "Testing Data (y-side)\n",
    "---------------------\n",
    "Feature Name:        {y_test.name}\n",
    "Observations (Rows): {y_test.shape[0]}\"\"\")"
   ]
  },
  {
   "cell_type": "code",
   "execution_count": 454,
   "id": "4c5c451d",
   "metadata": {},
   "outputs": [
    {
     "name": "stdout",
     "output_type": "stream",
     "text": [
      "\n",
      "Results for Classification Modeling with Original X-Features:\n",
      "\n",
      "Training ACCURACY: 0.7555\n",
      "Testing  ACCURACY: 0.7411\n",
      "Train-Test Gap   : 0.0144\n",
      "Test AUC Score   : 0.675\n",
      "\n",
      "\n",
      "True Negatives : 90\n",
      "False Positives: 133\n",
      "False Negatives: 20\n",
      "True Positives : 348\n",
      "\n"
     ]
    },
    {
     "name": "stderr",
     "output_type": "stream",
     "text": [
      "/Users/ts/anaconda3/lib/python3.11/site-packages/sklearn/linear_model/_logistic.py:469: ConvergenceWarning: lbfgs failed to converge (status=1):\n",
      "STOP: TOTAL NO. of ITERATIONS REACHED LIMIT.\n",
      "\n",
      "Increase the number of iterations (max_iter) or scale the data as shown in:\n",
      "    https://scikit-learn.org/stable/modules/preprocessing.html\n",
      "Please also refer to the documentation for alternative solver options:\n",
      "    https://scikit-learn.org/stable/modules/linear_model.html#logistic-regression\n",
      "  n_iter_i = _check_optimize_result(\n"
     ]
    }
   ],
   "source": [
    "from sklearn.impute        import SimpleImputer\n",
    "from sklearn.compose       import ColumnTransformer\n",
    "from sklearn.pipeline      import Pipeline\n",
    "from sklearn.preprocessing import StandardScaler\n",
    "from sklearn.linear_model  import LogisticRegression, RidgeClassifier\n",
    "from sklearn.neighbors     import KNeighborsClassifier\n",
    "from sklearn.tree          import DecisionTreeClassifier\n",
    "from sklearn.ensemble      import RandomForestClassifier, GradientBoostingClassifier\n",
    "from sklearn.metrics       import accuracy_score\n",
    "\n",
    "from sklearn.preprocessing import OneHotEncoder\n",
    "from sklearn.metrics       import precision_score, confusion_matrix\n",
    "\n",
    "import sklearn\n",
    "from sklearn.linear_model  import LogisticRegression\n",
    "from sklearn.metrics       import precision_score, confusion_matrix\n",
    "\n",
    "# INSTANTIATING a logistic regression model\n",
    "model = sklearn.linear_model.LogisticRegression(solver = 'lbfgs',\n",
    "                                                 C = 1,\n",
    "                                                 random_state = 702)\n",
    "\n",
    "# FITTING the training data\n",
    "model_fit = model.fit(x_train, y_train)\n",
    "\n",
    "# PREDICTING based on the testing set\n",
    "model_pred = model_fit.predict(x_test)\n",
    "\n",
    "# saving scoring data for future use\n",
    "train_score = round(model_fit.score(x_train, y_train), ndigits = 4) # train accuracy\n",
    "test_score  = round(model_fit.score(x_test, y_test),   ndigits = 4) # test accuracy\n",
    "tt_gap      = round(abs(train_score - test_score),      ndigits = 4) # gap\n",
    "roc_score   = roc_auc_score  (y_true      = y_test,\n",
    "                            y_score     = model_pred) # test auc score\n",
    "\n",
    "# displaying and saving the gap between training and testing\n",
    "print(f\"\"\"\\\n",
    "\n",
    "Results for Classification Modeling with Original X-Features:\n",
    "\n",
    "Training ACCURACY: {train_score}\n",
    "Testing  ACCURACY: {test_score}\n",
    "Train-Test Gap   : {tt_gap}\n",
    "Test AUC Score   : {roc_score.round(decimals = 3)}\n",
    "\"\"\") \n",
    "\n",
    "\n",
    "# unpacking the confusion matrix\n",
    "model_tn, \\\n",
    "model_fp, \\\n",
    "model_fn, \\\n",
    "model_tp = confusion_matrix(y_true = y_test, y_pred = model_pred).ravel()\n",
    "\n",
    "\n",
    "# printing each result one-by-one\n",
    "print(f\"\"\"\n",
    "True Negatives : {model_tn}\n",
    "False Positives: {model_fp}\n",
    "False Negatives: {model_fn}\n",
    "True Positives : {model_tp}\n",
    "\"\"\")"
   ]
  },
  {
   "cell_type": "markdown",
   "id": "d4937ac0",
   "metadata": {},
   "source": [
    "<h2> Model 2: Retained Principal Components </h2>"
   ]
  },
  {
   "cell_type": "code",
   "execution_count": 455,
   "id": "0dde834b",
   "metadata": {},
   "outputs": [],
   "source": [
    "from sklearn.metrics import roc_auc_score\n",
    "\n",
    "# selecting x- and y-data\n",
    "x_data1 = fb_pca\n",
    "y_data1 = fb['status_type_numeric']\n",
    "\n",
    "\n",
    "# training and testing sets\n",
    "x_train, x_test, y_train, y_test = train_test_split(x_data1,\n",
    "                                                    y_data1,\n",
    "                                                    test_size    = 0.25,\n",
    "                                                    random_state = 702,\n",
    "                                                    stratify     = y_data1)"
   ]
  },
  {
   "cell_type": "code",
   "execution_count": 456,
   "id": "a927d33e",
   "metadata": {},
   "outputs": [
    {
     "name": "stdout",
     "output_type": "stream",
     "text": [
      "\n",
      "Results for Classification Modeling with Principal Components:\n",
      "\n",
      "Training ACCURACY: 0.7555\n",
      "Testing  ACCURACY: 0.7411\n",
      "Train-Test Gap   : 0.0144\n",
      "Test AUC Score   : 0.678\n",
      "\n",
      "\n",
      "True Negatives : 91\n",
      "False Positives: 139\n",
      "False Negatives: 14\n",
      "True Positives : 347\n",
      "\n"
     ]
    }
   ],
   "source": [
    "# INSTANTIATING a logistic regression model\n",
    "model = sklearn.linear_model.LogisticRegression(solver       = 'lbfgs',\n",
    "                                                C            = 1,\n",
    "                                                random_state = 702)\n",
    "\n",
    "\n",
    "# FITTING the training data\n",
    "model_fit = model.fit(x_train, y_train)\n",
    "\n",
    "\n",
    "# PREDICTING based on the testing set\n",
    "model_pred = model_fit.predict(x_test) # predict_proba for multiclass\n",
    "\n",
    "\n",
    "# checking results\n",
    "train_acc = model_fit.score(x_train, y_train)\n",
    "test_acc  = model_fit.score(x_test, y_test )\n",
    "tt_gap    = round(abs(train_score - test_score),      ndigits = 4)\n",
    "roc_score = roc_auc_score  (y_true      = y_test,\n",
    "                            y_score     = model_pred)\n",
    "\n",
    "\n",
    "# displaying and saving the gap between training and testing\n",
    "print(f\"\"\"\\\n",
    "\n",
    "Results for Classification Modeling with Principal Components:\n",
    "\n",
    "Training ACCURACY: {train_score}\n",
    "Testing  ACCURACY: {test_score}\n",
    "Train-Test Gap   : {tt_gap}\n",
    "Test AUC Score   : {roc_score.round(decimals = 3)}\n",
    "\"\"\") \n",
    "\n",
    "# unpacking the confusion matrix\n",
    "model_tn, \\\n",
    "model_fp, \\\n",
    "model_fn, \\\n",
    "model_tp = confusion_matrix(y_true = y_test, y_pred = model_pred).ravel()\n",
    "\n",
    "\n",
    "# printing each result one-by-one\n",
    "print(f\"\"\"\n",
    "True Negatives : {model_tn}\n",
    "False Positives: {model_fp}\n",
    "False Negatives: {model_fn}\n",
    "True Positives : {model_tp}\n",
    "\"\"\")"
   ]
  },
  {
   "cell_type": "markdown",
   "id": "1a5721cb",
   "metadata": {},
   "source": [
    "<h2> Model 3: Retained Clusters </h2> "
   ]
  },
  {
   "cell_type": "code",
   "execution_count": 457,
   "id": "08a4cbdc",
   "metadata": {},
   "outputs": [
    {
     "data": {
      "text/plain": [
       "1  2\n",
       "1  0    2138\n",
       "0  1      89\n",
       "   0     135\n",
       "Name: count, dtype: int64"
      ]
     },
     "execution_count": 457,
     "metadata": {},
     "output_type": "execute_result"
    }
   ],
   "source": [
    "# factorizing cluster results \n",
    "cluster_df = pd.get_dummies(data       = fb_kmeans_pca['Cluster'],\n",
    "                            drop_first = True).astype(dtype = int)\n",
    "\n",
    "# checking results\n",
    "cluster_df.value_counts(normalize = False).sort_index(ascending = False)"
   ]
  },
  {
   "cell_type": "code",
   "execution_count": 458,
   "id": "d8191152",
   "metadata": {},
   "outputs": [],
   "source": [
    "# selecting x- and y-data\n",
    "x_data2 = cluster_df\n",
    "y_data2 = fb['status_type_numeric']\n",
    "\n",
    "\n",
    "# training and testing sets\n",
    "x_train, x_test, y_train, y_test = train_test_split(x_data2,\n",
    "                                                    y_data2,\n",
    "                                                    test_size    = 0.25,\n",
    "                                                    random_state = 702,\n",
    "                                                    stratify     = y_data2)"
   ]
  },
  {
   "cell_type": "code",
   "execution_count": 459,
   "id": "b3598363",
   "metadata": {},
   "outputs": [
    {
     "name": "stdout",
     "output_type": "stream",
     "text": [
      "\n",
      "Results for Classification Modeling with Clusters:\n",
      "\n",
      "Training ACCURACY: 0.7555\n",
      "Testing  ACCURACY: 0.7411\n",
      "Train-Test Gap   : 0.0144\n",
      "Test AUC Score   : 0.527\n",
      "\n",
      "\n",
      "True Negatives : 15\n",
      "False Positives: 215\n",
      "False Negatives: 4\n",
      "True Positives : 357\n",
      "\n"
     ]
    }
   ],
   "source": [
    "# INSTANTIATING a logistic regression model\n",
    "model = sklearn.linear_model.LogisticRegression(solver       = 'lbfgs',\n",
    "                                                C            = 1,\n",
    "                                                random_state = 702)\n",
    "\n",
    "\n",
    "# FITTING the training data\n",
    "model_fit = model.fit(x_train, y_train)\n",
    "\n",
    "\n",
    "# PREDICTING based on the testing set\n",
    "model_pred = model_fit.predict(x_test) # predict_proba for multiclass\n",
    "\n",
    "\n",
    "# checking results\n",
    "train_acc = model_fit.score(x_train, y_train)\n",
    "test_acc  = model_fit.score(x_test , y_test )\n",
    "tt_gap      = round(abs(train_score - test_score),      ndigits = 4)\n",
    "roc_score = roc_auc_score  (y_true      = y_test,\n",
    "                            y_score     = model_pred)\n",
    "\n",
    "\n",
    "# displaying and saving the gap between training and testing\n",
    "print(f\"\"\"\\\n",
    "\n",
    "Results for Classification Modeling with Clusters:\n",
    "\n",
    "Training ACCURACY: {train_score}\n",
    "Testing  ACCURACY: {test_score}\n",
    "Train-Test Gap   : {tt_gap}\n",
    "Test AUC Score   : {roc_score.round(decimals = 3)}\n",
    "\"\"\")\n",
    "\n",
    "# unpacking the confusion matrix\n",
    "model_tn, \\\n",
    "model_fp, \\\n",
    "model_fn, \\\n",
    "model_tp = confusion_matrix(y_true = y_test, y_pred = model_pred).ravel()\n",
    "\n",
    "\n",
    "# printing each result one-by-one\n",
    "print(f\"\"\"\n",
    "True Negatives : {model_tn}\n",
    "False Positives: {model_fp}\n",
    "False Negatives: {model_fn}\n",
    "True Positives : {model_tp}\n",
    "\"\"\")"
   ]
  },
  {
   "cell_type": "markdown",
   "id": "48dca2e3",
   "metadata": {},
   "source": [
    "<h1> Best Model Analysis </h1>"
   ]
  },
  {
   "cell_type": "markdown",
   "id": "d22c89b6",
   "metadata": {},
   "source": [
    "Selected as the best model: \"Model 2: Retained Principal Components\"\n",
    "\n",
    "It has the highest AUC score out of the three modes, indicating the best model performance, particularly when it comes to distinguishing between positive and negative classes. The AUC score further is reliable when there are classes with significant imbalance, as we experience in this analysis. The accuracy scores can be misleading in those cases. The AUC score of 0.678 suggests effectiveness and robustness for \"Model 2: Retained Principal Components\". \n",
    "\n",
    "The confusion matrix with 91 TN, 139 FP, 14 FN and 347 TP shows that there are still lots of wrongly predicted observations. The number of False Positives, in our cased wrongly predicted as a photo despite it not being a photo is very high with 139. This error could lead to serious risks for the business such as a misallocation of resources like budget and manpower on uninterested customers or prospects. Thinking that the good and engaging interactions to their advertising is based on their chosen status type photo when it is actually caused by videos or something else is risky. \n",
    "\n",
    "The number of False Negatives (14) is relatively small compared to the first error. It means, that observations are predicted as \"not photo\" despite it being a photo. Since it is a small number, this kind of error is not as dangerous as the other one but a higher number of False Negatives would lead to missed opportunities as FN represents them. If a model fails to identify a positive instance, the business misses out on potential sales, leads, conversions etc. "
   ]
  }
 ],
 "metadata": {
  "kernelspec": {
   "display_name": "Python 3 (ipykernel)",
   "language": "python",
   "name": "python3"
  },
  "language_info": {
   "codemirror_mode": {
    "name": "ipython",
    "version": 3
   },
   "file_extension": ".py",
   "mimetype": "text/x-python",
   "name": "python",
   "nbconvert_exporter": "python",
   "pygments_lexer": "ipython3",
   "version": "3.11.5"
  },
  "toc": {
   "base_numbering": 1,
   "nav_menu": {},
   "number_sections": true,
   "sideBar": true,
   "skip_h1_title": false,
   "title_cell": "Table of Contents",
   "title_sidebar": "Contents",
   "toc_cell": false,
   "toc_position": {},
   "toc_section_display": true,
   "toc_window_display": false
  },
  "varInspector": {
   "cols": {
    "lenName": 16,
    "lenType": 16,
    "lenVar": 40
   },
   "kernels_config": {
    "python": {
     "delete_cmd_postfix": "",
     "delete_cmd_prefix": "del ",
     "library": "var_list.py",
     "varRefreshCmd": "print(var_dic_list())"
    },
    "r": {
     "delete_cmd_postfix": ") ",
     "delete_cmd_prefix": "rm(",
     "library": "var_list.r",
     "varRefreshCmd": "cat(var_dic_list()) "
    }
   },
   "types_to_exclude": [
    "module",
    "function",
    "builtin_function_or_method",
    "instance",
    "_Feature"
   ],
   "window_display": false
  }
 },
 "nbformat": 4,
 "nbformat_minor": 5
}
